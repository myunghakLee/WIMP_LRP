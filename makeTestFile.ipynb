{
 "cells": [
  {
   "cell_type": "code",
   "execution_count": 1,
   "id": "cf0604a4",
   "metadata": {
    "ExecuteTime": {
     "end_time": "2022-01-25T23:24:10.068106Z",
     "start_time": "2022-01-25T23:24:10.061942Z"
    }
   },
   "outputs": [],
   "source": [
    "from matplotlib import pyplot as plt\n",
    "import numpy as np\n",
    "import json\n",
    "import math\n",
    "import csv\n",
    "import os"
   ]
  },
  {
   "cell_type": "code",
   "execution_count": 2,
   "id": "072fc505",
   "metadata": {
    "ExecuteTime": {
     "end_time": "2022-01-25T23:24:22.218590Z",
     "start_time": "2022-01-25T23:24:22.211808Z"
    }
   },
   "outputs": [],
   "source": [
    "def denormalization(arr, angle, translation):\n",
    "\n",
    "    theta = (angle)/180*math.pi\n",
    "    c, s = np.cos(theta), np.sin(theta)\n",
    "    R = np.array(((c, -s), (s, c)))\n",
    "    \n",
    "    #rotate\n",
    "    arr = np.array(R.dot(arr.transpose())).transpose()\n",
    "    #translate\n",
    "    arr += translation\n",
    "#     arr[...,0] += (AGENT[19,0] - AGENT[0,0])\n",
    "#     arr[...,1] += (AGENT[19,1] - AGENT[0,1])\n",
    "    return arr"
   ]
  },
  {
   "cell_type": "code",
   "execution_count": 20,
   "id": "8f65c4dd",
   "metadata": {
    "ExecuteTime": {
     "end_time": "2022-01-25T23:44:03.659269Z",
     "start_time": "2022-01-25T23:44:03.652770Z"
    }
   },
   "outputs": [],
   "source": [
    "def prediction(json_dict):\n",
    "    preds = np.array(json_dict['preds'][0])[...,:2]\n",
    "    preds = np.array([denormalization(p, -json_dict['rotation'], -np.array(json_dict['translation'])) for p in preds])\n",
    "    seq_id = int(json_dict['csv_file'].split('.')[0])\n",
    "    return preds, seq_id"
   ]
  },
  {
   "cell_type": "code",
   "execution_count": 4,
   "id": "b2d2760d",
   "metadata": {
    "ExecuteTime": {
     "end_time": "2022-01-25T23:24:35.818669Z",
     "start_time": "2022-01-25T23:24:33.340946Z"
    }
   },
   "outputs": [],
   "source": [
    "from tqdm.notebook import tqdm\n",
    "from argoverse.evaluation.competition_util import generate_forecasting_h5\n"
   ]
  },
  {
   "cell_type": "code",
   "execution_count": 10,
   "id": "823a9610",
   "metadata": {
    "ExecuteTime": {
     "end_time": "2022-01-25T23:41:46.334505Z",
     "start_time": "2022-01-25T23:41:46.330513Z"
    }
   },
   "outputs": [],
   "source": [
    "file_name = \"origianl_test.json\"\n",
    "output_path = [\"competition_files/\" + file_name]\n",
    "\n"
   ]
  },
  {
   "cell_type": "code",
   "execution_count": 6,
   "id": "b1172fc3",
   "metadata": {
    "ExecuteTime": {
     "end_time": "2022-01-25T23:40:36.705238Z",
     "start_time": "2022-01-25T23:36:38.986235Z"
    },
    "code_folding": []
   },
   "outputs": [],
   "source": [
    "with open(file_name) as json_data:\n",
    "    data = json.load(json_data)"
   ]
  },
  {
   "cell_type": "code",
   "execution_count": 12,
   "id": "380563ac",
   "metadata": {
    "ExecuteTime": {
     "end_time": "2022-01-25T23:41:54.585271Z",
     "start_time": "2022-01-25T23:41:54.580149Z"
    }
   },
   "outputs": [
    {
     "name": "stdout",
     "output_type": "stream",
     "text": [
      "origianl_test.json\n",
      "['competition_files/origianl_test.json']\n"
     ]
    }
   ],
   "source": [
    "print(file_name)\n",
    "print(output_path)\n"
   ]
  },
  {
   "cell_type": "code",
   "execution_count": 14,
   "id": "112842b2",
   "metadata": {
    "ExecuteTime": {
     "end_time": "2022-01-25T23:42:07.911688Z",
     "start_time": "2022-01-25T23:42:07.905177Z"
    }
   },
   "outputs": [
    {
     "data": {
      "text/plain": [
       "dict_keys(['preds', 'waypoint_preds', 'rotation', 'translation', 'csv_file', 'city', 'agent_labels', 'agent_features', 'social_features', 'social_label_features', 'att_weights'])"
      ]
     },
     "execution_count": 14,
     "metadata": {},
     "output_type": "execute_result"
    }
   ],
   "source": [
    "data[0].keys()"
   ]
  },
  {
   "cell_type": "code",
   "execution_count": 19,
   "id": "08b4a008",
   "metadata": {
    "ExecuteTime": {
     "end_time": "2022-01-25T23:43:32.642451Z",
     "start_time": "2022-01-25T23:43:32.627965Z"
    }
   },
   "outputs": [
    {
     "name": "stdout",
     "output_type": "stream",
     "text": [
      "preds  : (1, 6, 30, 3)\n",
      "waypoint_preds  : (2,)\n",
      "rotation  : ()\n",
      "translation  : (2,)\n",
      "csv_file  : ()\n",
      "city  : ()\n",
      "agent_labels  : (30, 2)\n",
      "agent_features  : (20, 2)\n",
      "social_features  : (24, 20, 2)\n",
      "social_label_features  : (24, 30, 2)\n",
      "att_weights  : (4, 25, 25)\n"
     ]
    },
    {
     "name": "stderr",
     "output_type": "stream",
     "text": [
      "<ipython-input-19-ea3f984524d1>:3: VisibleDeprecationWarning: Creating an ndarray from ragged nested sequences (which is a list-or-tuple of lists-or-tuples-or ndarrays with different lengths or shapes) is deprecated. If you meant to do this, you must specify 'dtype=object' when creating the ndarray\n",
      "  print(k , \" :\", np.array(data[0][k]).shape)\n"
     ]
    }
   ],
   "source": [
    "for k in data[0].keys():\n",
    "    try:\n",
    "        print(k , \" :\", np.array(data[0][k]).shape)\n",
    "    except:\n",
    "        pass"
   ]
  },
  {
   "cell_type": "code",
   "execution_count": 40,
   "id": "48fe4dcc",
   "metadata": {
    "ExecuteTime": {
     "end_time": "2022-01-25T23:55:35.218244Z",
     "start_time": "2022-01-25T23:52:34.072903Z"
    }
   },
   "outputs": [
    {
     "data": {
      "application/vnd.jupyter.widget-view+json": {
       "model_id": "75fb68a82fc24ee2a0e13f1aab29b1ad",
       "version_major": 2,
       "version_minor": 0
      },
      "text/plain": [
       "  0%|          | 0/78143 [00:00<?, ?it/s]"
      ]
     },
     "metadata": {},
     "output_type": "display_data"
    },
    {
     "name": "stdout",
     "output_type": "stream",
     "text": [
      "9192/78143"
     ]
    },
    {
     "data": {
      "text/html": [
       "<b>limit_output extension: Maximum message size of 100000 exceeded with 103646 characters</b>"
      ]
     },
     "metadata": {},
     "output_type": "display_data"
    }
   ],
   "source": [
    "output_all = {}\n",
    "for d in tqdm(data):\n",
    "    p, seq_id = prediction(d)\n",
    "    output_all[seq_id] = p\n",
    "generate_forecasting_h5(output_all, output_path[0])"
   ]
  },
  {
   "cell_type": "code",
   "execution_count": 39,
   "id": "58058633",
   "metadata": {
    "ExecuteTime": {
     "end_time": "2022-01-25T23:52:32.518452Z",
     "start_time": "2022-01-25T23:52:32.514523Z"
    }
   },
   "outputs": [],
   "source": [
    "output_path =  \"competition_files/\""
   ]
  },
  {
   "cell_type": "code",
   "execution_count": null,
   "id": "589d5707",
   "metadata": {},
   "outputs": [],
   "source": []
  }
 ],
 "metadata": {
  "kernelspec": {
   "display_name": "Python 3",
   "language": "python",
   "name": "python3"
  },
  "language_info": {
   "codemirror_mode": {
    "name": "ipython",
    "version": 3
   },
   "file_extension": ".py",
   "mimetype": "text/x-python",
   "name": "python",
   "nbconvert_exporter": "python",
   "pygments_lexer": "ipython3",
   "version": "3.8.10"
  },
  "toc": {
   "base_numbering": 1,
   "nav_menu": {},
   "number_sections": false,
   "sideBar": true,
   "skip_h1_title": false,
   "title_cell": "Table of Contents",
   "title_sidebar": "Contents",
   "toc_cell": false,
   "toc_position": {},
   "toc_section_display": true,
   "toc_window_display": false
  }
 },
 "nbformat": 4,
 "nbformat_minor": 5
}
