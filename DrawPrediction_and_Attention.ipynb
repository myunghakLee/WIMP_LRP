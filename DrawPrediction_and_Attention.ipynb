{
 "cells": [
  {
   "cell_type": "code",
   "execution_count": 2,
   "id": "6009d57b",
   "metadata": {
    "ExecuteTime": {
     "end_time": "2022-01-12T13:57:06.530223Z",
     "start_time": "2022-01-12T13:57:06.518385Z"
    }
   },
   "outputs": [
    {
     "data": {
      "text/plain": [
       "dict_keys(['preds', 'waypoint_preds', 'rotation', 'translation', 'csv_file', 'city', 'agent_labels', 'agent_features', 'social_features', 'social_label_features', 'att_weights'])"
      ]
     },
     "execution_count": 2,
     "metadata": {},
     "output_type": "execute_result"
    }
   ],
   "source": [
    "with open(\"ResultsJson/LAST_smoothing_smoothing/1000.json\") as json_data:\n",
    "    data= json.load(json_data)\n",
    "data.keys()"
   ]
  },
  {
   "cell_type": "code",
   "execution_count": 1,
   "id": "ea6ed055",
   "metadata": {
    "ExecuteTime": {
     "end_time": "2022-02-17T18:33:51.957873Z",
     "start_time": "2022-02-17T18:33:51.953700Z"
    }
   },
   "outputs": [],
   "source": [
    "import numpy as np\n",
    "\n",
    "# print(np.array(data[\"att_weights\"]).shape)\n",
    "# print(np.array(data[\"agent_labels\"]).shape)\n",
    "# print(np.array(data[\"att_weights\"]).shape)\n",
    "# print(np.array(data[\"att_weights\"]).shape)\n",
    "# print(np.array(data[\"att_weights\"]).shape)\n",
    "# print(np.array(data[\"att_weights\"]).shape)"
   ]
  },
  {
   "cell_type": "code",
   "execution_count": 2,
   "id": "d4225a1d",
   "metadata": {
    "ExecuteTime": {
     "end_time": "2022-02-17T18:34:24.498238Z",
     "start_time": "2022-02-17T18:34:15.682663Z"
    }
   },
   "outputs": [],
   "source": [
    "from matplotlib import pyplot as plt\n",
    "from tqdm import tqdm\n",
    "import numpy as np\n",
    "import json\n",
    "import os\n",
    "from argoverse.map_representation.map_api import ArgoverseMap\n",
    "\n",
    "am = ArgoverseMap() # 여기는 지도를 그리기 위한 API로 https://github.com/argoai/argoverse-api 를 참조하여 api를 설치하신 후에 사용 가능합니다.\n"
   ]
  },
  {
   "cell_type": "code",
   "execution_count": 71,
   "id": "fe362790",
   "metadata": {
    "ExecuteTime": {
     "end_time": "2022-02-17T18:50:50.332103Z",
     "start_time": "2022-02-17T18:50:50.306882Z"
    },
    "code_folding": []
   },
   "outputs": [],
   "source": [
    "import torch\n",
    "import math\n",
    "from shapely.geometry import LineString\n",
    "\n",
    "def denormalization(arr, angle, translation_x, translation_y): # 테스트 결과근 normalize되서 나오므로 이를 다시 denormalization 시키는 코드\n",
    "\n",
    "    theta = (angle)/180*math.pi\n",
    "    c, s = np.cos(theta), np.sin(theta)\n",
    "    R = np.array(((c, -s), (s, c)))\n",
    "\n",
    "    #rotate\n",
    "    arr = np.array([R.dot(arr[...,:2][i].reshape((2,1))).flatten() for i in range(len(arr[...,:2]))])\n",
    "\n",
    "    #translate\n",
    "    arr[...,0] += translation_x\n",
    "    arr[...,1] += translation_y\n",
    "#     arr[...,0] += (AGENT[19,0] - AGENT[0,0])\n",
    "#     arr[...,1] += (AGENT[19,1] - AGENT[0,1])\n",
    "    return arr\n",
    "\n",
    "\n",
    "def draw(AGENT, AVs, json_dict, graph_weight = None, head_num = 0, figsize = (8,8), Normalize = False, title = None, \n",
    "         draw_future = True, mode = \"av2agent\", gt = []):\n",
    "    \n",
    "    \n",
    "    assert mode == \"av2agent\" or mode == \"agent2av\", \"mode must be 'agent2av' or 'av2agent'\"\n",
    "    plt.ion()\n",
    "    plt.figure(figsize=figsize)\n",
    "    if title != None:\n",
    "        plt.title(title)\n",
    "    \n",
    "    x_mean = np.array(json_dict['preds'])[0,:,0,0].mean()\n",
    "    y_mean = np.array(json_dict['preds'])[0,:,0,1].mean()\n",
    "\n",
    "    angle_ans = -json_dict['rotation']\n",
    "\n",
    "    xmin, xmax, ymin,ymax = [9999], [-9999], [9999], [-9999]\n",
    "\n",
    "    json_dict['preds'] = [[np.array(json_dict['preds'])[0][i] - json_dict['preds'][0][i][:1] for i in range(len(json_dict['preds'][0]))]]    # calculate x's mean and y's mean in predict\n",
    "#     graph_weight = graph_weight[head_num]/ max(np.max(graph_weight[head_num]), 0.00001)\n",
    "    graph_weight = graph_weight[head_num]\n",
    "    if draw_future:\n",
    "        for p in json_dict['preds'][0]:\n",
    "            p = denormalization(np.array(p), angle_ans, -json_dict['translation'][0], -json_dict['translation'][1])\n",
    "            p += AGENT[-1] - AGENT[0]\n",
    "            plt.plot(p[...,0], p[...,1], linestyle='dashed', alpha = 0.5, zorder = -1)\n",
    "            plt.scatter(p[...,0][-1], p[...,1][-1], linewidth=2, alpha = 0.5, zorder = -1)\n",
    "            xmin, xmax = min(np.append(xmin, p[...,0])), max(np.append(xmax, p[...,0]))\n",
    "            ymin, ymax = min(np.append(ymin, p[...,1])), max(np.append(ymax, p[...,1]))\n",
    "        \n",
    "\n",
    "    plt.plot(AGENT[...,0],AGENT[...,1], color='blue')\n",
    "    plt.scatter(AGENT[...,0][-1],AGENT[...,1][-1], color='blue',linewidth=8)\n",
    "    plt.scatter(AGENT[...,0][19],AGENT[...,1][19], color='blue')\n",
    "\n",
    "#     print(graph_weight[3][0])\n",
    "#     graph_weight[3][0] = graph_weight[3][0] / max(max(graph_weight[3][0]), 0.00001)\n",
    "    if len(gt):\n",
    "        plt.plot(gt[:, 0], gt[:, 1])\n",
    "        plt.scatter(gt[:, 0][-1], gt[:, 1][-1], marker=(5, 1), color = 'red', s = 128, zorder = 0)\n",
    "        \n",
    "\n",
    "    for i, AV in enumerate(AVs):\n",
    "        \n",
    "        if AGENT[:,0][0] != AVs[i][:,0][0]: # 간혹 AV의 trajectory가 0으로 초기화 되어 있는 경우가 있는데 이 경우 AGENT의 초기값과 같아져 발생하는 오류때문에 넣어줌\n",
    "            plt.plot(AV[...,0],AV[...,1], color='black')\n",
    "            plt.scatter(AV[...,0][-1],AV[...,1][-1], color='black')\n",
    "            if mode == \"av2agent\":\n",
    "                plt.scatter(AV[...,0][-1],AV[...,1][-1], color='red', linewidth = 8, alpha = graph_weight[0][i+1])\n",
    "            elif mode == \"agent2av\":\n",
    "                plt.scatter(AV[...,0][-1],AV[...,1][-1], color='red', linewidth = 8, alpha = graph_weight[i+1][0])\n",
    "            \n",
    "            \n",
    "            xmin = min(np.append(np.append(AGENT[...,0], AV[...,0]),xmin))\n",
    "            xmax = max(np.append(np.append(AGENT[...,0], AV[...,0]),xmax))\n",
    "            ymin = min(np.append(np.append(AGENT[...,1], AV[...,1]),ymin))\n",
    "            ymax = max(np.append(np.append(AGENT[...,1], AV[...,1]),ymax))\n",
    "\n",
    "    #draw map\n",
    "#     print(graph_weight[head_num])\n",
    "    local_lane_polygons = am.find_local_lane_polygons([xmin, xmax, ymin, ymax], city_name)\n",
    "#     print(xmin, xmax, ymin, ymax)\n",
    "    for l in local_lane_polygons:\n",
    "        plt.plot(l[...,0],l[...,1], linewidth='0.5', color='gray')\n",
    "\n",
    "    plt.savefig(f'ResultsImg/results_WIMP_attentinon2/{json_dict[\"csv_file\"].split(\".\")[0]}_{head_num}.png')\n",
    "#     plt.show()\n",
    "    plt.close()\n"
   ]
  },
  {
   "cell_type": "code",
   "execution_count": 73,
   "id": "4bd68ebd",
   "metadata": {
    "ExecuteTime": {
     "end_time": "2022-02-17T18:52:10.114498Z",
     "start_time": "2022-02-17T18:52:09.357622Z"
    }
   },
   "outputs": [
    {
     "data": {
      "application/vnd.jupyter.widget-view+json": {
       "model_id": "d2a923d1b37b432da358db8093eb7aef",
       "version_major": 2,
       "version_minor": 0
      },
      "text/plain": [
       "  0%|          | 0/39472 [00:00<?, ?it/s]"
      ]
     },
     "metadata": {},
     "output_type": "display_data"
    }
   ],
   "source": [
    "from tqdm.notebook import tqdm\n",
    "import pickle \n",
    "\n",
    "root_dir = \"ResultsJson/LAST_smoothing_smoothing/\"  # Test결과 파일이 있는 위치\n",
    "raw_data_dir = \"./../WIMP/data/argoverse_processed_simple/val/\" #argoverse rawdata(csv 파일)이 저장되어 있는 위치\n",
    "\n",
    "\n",
    "\n",
    "file_list = sorted(os.listdir(raw_data_dir), key=lambda a : str(a.split('.')[0]))\n",
    "\n",
    "for index in tqdm(range(len(file_list))): # 전체를 다 그리기는 힘드므로 일부만 시각화\n",
    "\n",
    "    json_dict = {}\n",
    "\n",
    "    with open(raw_data_dir + file_list[index], 'rb') as json_data:\n",
    "        pickle_dict = pickle.load(json_data)\n",
    "\n",
    "    with open(root_dir + file_list[index].split(\".\")[0] + \".json\", 'r') as json_data:\n",
    "        json_dict = json.load(json_data)\n",
    "        \n",
    "\n",
    "        \n",
    "    rt = -json_dict[\"rotation\"]\n",
    "    tx = -json_dict[\"translation\"][0]\n",
    "    ty = -json_dict[\"translation\"][1]\n",
    "\n",
    "    social_features = [d[\"XY_FEATURES\"] for d in pickle_dict[\"SOCIAL\"]]\n",
    "    \n",
    "    AVs = np.array([denormalization(np.array(json_dict[\"social_features\"][i]), rt, tx, ty) for i in range(len(json_dict[\"social_features\"]))])\n",
    "    AGENT = denormalization(np.array(pickle_dict[\"AGENT\"][\"XY_FEATURES\"]), rt, tx, ty)\n",
    "    graph_weight = np.array(json_dict[\"att_weights\"])\n",
    "    \n",
    "    \n",
    "    city_name = json_dict[\"city\"]\n",
    "#     AV = np.array(AV)\n",
    "#     AGENT = np.array(AGENT)\n",
    "    arr = pickle_dict['AGENT']['LABELS']\n",
    "    angle =- json_dict['rotation']\n",
    "    tx, ty = json_dict['translation']\n",
    "    gt = denormalization(arr, angle, -tx, -ty)\n",
    "\n",
    "    \n",
    "    for i in range(1):\n",
    "        # av2agent # agent 에게 영향을 주는 것\n",
    "        draw(AGENT, AVs, json_dict, figsize=(15,15), Normalize = True, graph_weight=graph_weight, \n",
    "                         head_num = 3, mode = \"av2agent\", gt= gt) \n",
    "        break\n",
    "    break"
   ]
  },
  {
   "cell_type": "code",
   "execution_count": 24,
   "id": "cdc91546",
   "metadata": {
    "ExecuteTime": {
     "end_time": "2022-02-17T18:41:13.832231Z",
     "start_time": "2022-02-17T18:41:13.824757Z"
    },
    "collapsed": true
   },
   "outputs": [
    {
     "data": {
      "text/plain": [
       "array([[ 1.07933083e+01, -3.00130751e-02],\n",
       "       [ 1.12015705e+01, -1.45823862e-02],\n",
       "       [ 1.14279661e+01,  2.93002202e-04],\n",
       "       [ 1.19084129e+01,  6.42824024e-02],\n",
       "       [ 1.20530443e+01, -1.14045320e-02],\n",
       "       [ 1.21454849e+01,  3.67873609e-02],\n",
       "       [ 1.26491413e+01, -1.32305091e-02],\n",
       "       [ 1.25108328e+01,  1.22964472e-01],\n",
       "       [ 1.27680082e+01,  8.89535323e-02],\n",
       "       [ 1.29510975e+01,  1.00496285e-01],\n",
       "       [ 1.31719971e+01,  1.12159319e-01],\n",
       "       [ 1.33833666e+01,  1.13748372e-01],\n",
       "       [ 1.35149946e+01,  1.09324165e-01],\n",
       "       [ 1.35960732e+01,  1.34754613e-01],\n",
       "       [ 1.36978493e+01,  1.15643196e-01],\n",
       "       [ 1.38920174e+01,  1.26861364e-01],\n",
       "       [ 1.39784307e+01,  1.33724868e-01],\n",
       "       [ 1.40143623e+01,  1.17423028e-01],\n",
       "       [ 1.41312180e+01,  1.36831567e-01],\n",
       "       [ 1.41184969e+01,  1.32280454e-01],\n",
       "       [ 1.41625900e+01,  1.49113342e-01],\n",
       "       [ 1.42239170e+01,  1.64394394e-01],\n",
       "       [ 1.41896181e+01,  1.62575141e-01],\n",
       "       [ 1.41384544e+01,  1.31826609e-01],\n",
       "       [ 1.41552124e+01,  1.61123246e-01],\n",
       "       [ 1.42049665e+01,  1.53051153e-01],\n",
       "       [ 1.41311426e+01,  1.57968923e-01],\n",
       "       [ 1.40702200e+01,  1.77421480e-01],\n",
       "       [ 1.37952089e+01,  7.59619549e-02],\n",
       "       [ 1.37826805e+01,  7.29660019e-02]], dtype=float32)"
      ]
     },
     "execution_count": 24,
     "metadata": {},
     "output_type": "execute_result"
    }
   ],
   "source": [
    "pickle_dict['AGENT']['LABELS']"
   ]
  },
  {
   "cell_type": "code",
   "execution_count": 25,
   "id": "7b1bcd43",
   "metadata": {
    "ExecuteTime": {
     "end_time": "2022-02-17T18:42:01.529893Z",
     "start_time": "2022-02-17T18:42:01.524577Z"
    }
   },
   "outputs": [
    {
     "data": {
      "text/plain": [
       "dict_keys(['AGENT', 'SOCIAL', 'PATH', 'SEQ_ID', 'TRANSLATION', 'ROTATION', 'CITY_NAME', 'TE'])"
      ]
     },
     "execution_count": 25,
     "metadata": {},
     "output_type": "execute_result"
    }
   ],
   "source": [
    "pickle_dict.keys()"
   ]
  },
  {
   "cell_type": "code",
   "execution_count": 26,
   "id": "d027055e",
   "metadata": {
    "ExecuteTime": {
     "end_time": "2022-02-17T18:42:32.429020Z",
     "start_time": "2022-02-17T18:42:32.424541Z"
    }
   },
   "outputs": [],
   "source": [
    "arr = pickle_dict['AGENT']['LABELS']\n",
    "angle = pickle_dict['ROTATION']\n",
    "tx, ty = pickle_dict['TRANSLATION']\n"
   ]
  },
  {
   "cell_type": "code",
   "execution_count": 30,
   "id": "a85a18ea",
   "metadata": {
    "ExecuteTime": {
     "end_time": "2022-02-17T18:43:15.561405Z",
     "start_time": "2022-02-17T18:43:15.444693Z"
    }
   },
   "outputs": [
    {
     "data": {
      "text/plain": [
       "[<matplotlib.lines.Line2D at 0x7f14e4027280>]"
      ]
     },
     "execution_count": 30,
     "metadata": {},
     "output_type": "execute_result"
    },
    {
     "data": {
      "image/png": "[encoded data removed]",
      "text/plain": [
       "<Figure size 432x288 with 1 Axes>"
      ]
     },
     "metadata": {
      "needs_background": "light"
     },
     "output_type": "display_data"
    }
   ],
   "source": [
    "plt.plot(gt[:,0], gt[:,1])"
   ]
  }
 ],
 "metadata": {
  "kernelspec": {
   "display_name": "Python 3",
   "language": "python",
   "name": "python3"
  },
  "language_info": {
   "codemirror_mode": {
    "name": "ipython",
    "version": 3
   },
   "file_extension": ".py",
   "mimetype": "text/x-python",
   "name": "python",
   "nbconvert_exporter": "python",
   "pygments_lexer": "ipython3",
   "version": "3.8.10"
  },
  "toc": {
   "base_numbering": 1,
   "nav_menu": {},
   "number_sections": false,
   "sideBar": true,
   "skip_h1_title": false,
   "title_cell": "Table of Contents",
   "title_sidebar": "Contents",
   "toc_cell": false,
   "toc_position": {},
   "toc_section_display": true,
   "toc_window_display": false
  }
 },
 "nbformat": 4,
 "nbformat_minor": 5
}
