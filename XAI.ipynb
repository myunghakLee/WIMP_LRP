{
 "cells": [
  {
   "cell_type": "code",
   "execution_count": 1,
   "id": "d3a0fd51",
   "metadata": {
    "ExecuteTime": {
     "end_time": "2022-01-19T08:00:07.209957Z",
     "start_time": "2022-01-19T07:59:56.205132Z"
    }
   },
   "outputs": [],
   "source": [
    "from matplotlib import pyplot as plt\n",
    "from tqdm import tqdm\n",
    "import numpy as np\n",
    "import torch\n",
    "\n",
    "from src.data.argoverse_datamodule import ArgoverseDataModule\n",
    "from src.data.argoverse_dataset import ArgoverseDataset\n",
    "from src.data.dummy_datamodule import DummyDataModule\n",
    "from src.models.WIMP import WIMP\n",
    "\n",
    "from torch.utils.data import DataLoader, Dataset\n",
    "\n",
    "import XAI_utils"
   ]
  },
  {
   "cell_type": "code",
   "execution_count": 2,
   "id": "db1ea2d1",
   "metadata": {
    "ExecuteTime": {
     "end_time": "2022-01-19T08:00:07.217841Z",
     "start_time": "2022-01-19T08:00:07.212472Z"
    }
   },
   "outputs": [],
   "source": [
    "args = {\"IFC\":True, \"add_centerline\":False, \"attention_heads\":4, \"batch_norm\":False, \"batch_size\":25, \"check_val_every_n_epoch\":3, \n",
    "          \"dataroot\":'./data/argoverse_processed_simple', \"dataset\":'argoverse', \"distributed_backend\":'ddp', \"dropout\":0.5, \n",
    "          \"early_stop_threshold\":5, \"experiment_name\":'example', \"gpus\":1, \"gradient_clipping\":True, \"graph_iter\":1, \n",
    "          \"hidden_dim\":512, \"hidden_key_generator\":True, \"hidden_transform\":False, \"input_dim\":2, \"k_value_threshold\":10, \n",
    "          \"k_values\":[6, 5, 4, 3, 2, 1], \"lr\":0.0001, \"map_features\":False, \"max_epochs\":200, \"mode\":'train', \"model_name\":'WIMP', \n",
    "          \"no_heuristic\":False, \"non_linearity\":'relu', \"num_layers\":4, \"num_mixtures\":6, \"num_nodes\":1, \"output_conv\":True, \"output_dim\":2, \n",
    "          \"output_prediction\":True, \"precision\":32, \"predict_delta\":False, \"resume_from_checkpoint\":None, \n",
    "          \"scheduler_step_size\":[60, 90, 120, 150, 180], \"seed\":None, \"segment_CL\":False, \"segment_CL_Encoder\":False, \n",
    "          \"segment_CL_Encoder_Gaussian\":False, \"segment_CL_Encoder_Gaussian_Prob\":False, \"segment_CL_Encoder_Prob\":True, \n",
    "          \"segment_CL_Gaussian_Prob\":False, \"segment_CL_Prob\":False, \"use_centerline_features\":True, \"use_oracle\":False, \"waypoint_step\":5, \n",
    "          \"weight_decay\":0.0, \"workers\":8, \"wta\":False}"
   ]
  },
  {
   "cell_type": "code",
   "execution_count": 3,
   "id": "207ecea2",
   "metadata": {
    "ExecuteTime": {
     "end_time": "2022-01-19T08:00:07.682981Z",
     "start_time": "2022-01-19T08:00:07.219435Z"
    }
   },
   "outputs": [],
   "source": [
    "train_loader = ArgoverseDataset(args['dataroot'], mode='train', delta=args['predict_delta'],\n",
    "                              map_features_flag=args['map_features'],\n",
    "                              social_features_flag=True, heuristic=(not args['no_heuristic']),\n",
    "                              ifc=args['IFC'], is_oracle=args['use_oracle'])\n",
    "\n",
    "val_loader = ArgoverseDataset(args['dataroot'], mode='val', delta=args['predict_delta'],\n",
    "                              map_features_flag=args['map_features'],\n",
    "                              social_features_flag=True, heuristic=(not args['no_heuristic']),\n",
    "                              ifc=args['IFC'], is_oracle=args['use_oracle'])\n",
    "\n",
    "test_loader = ArgoverseDataset(args['dataroot'], mode='test', delta=args['predict_delta'],\n",
    "                              map_features_flag=args['map_features'],\n",
    "                              social_features_flag=True, heuristic=(not args['no_heuristic']),\n",
    "                              ifc=args['IFC'], is_oracle=args['use_oracle'])\n",
    "\n",
    "train_dataset = DataLoader(train_loader, batch_size=args['batch_size'], num_workers=args['workers'],\n",
    "                                pin_memory=True, collate_fn=ArgoverseDataset.collate,\n",
    "                                shuffle=True, drop_last=True)\n",
    "\n",
    "val_dataset = DataLoader(val_loader, batch_size=args['batch_size'], num_workers=args['workers'],\n",
    "                                pin_memory=True, collate_fn=ArgoverseDataset.collate,\n",
    "                                shuffle=False, drop_last=False)\n",
    "\n",
    "trest_dataset = DataLoader(test_loader, batch_size=args['batch_size'], num_workers=args['workers'],\n",
    "                                pin_memory=True, collate_fn=ArgoverseDataset.collate,\n",
    "                                shuffle=False, drop_last=False)\n",
    "# dm = ArgoverseDataset(args)"
   ]
  },
  {
   "cell_type": "code",
   "execution_count": 4,
   "id": "b37118c6",
   "metadata": {
    "ExecuteTime": {
     "end_time": "2022-01-19T08:00:13.276507Z",
     "start_time": "2022-01-19T08:00:07.686415Z"
    }
   },
   "outputs": [],
   "source": [
    "model = WIMP(args)\n",
    "model.load_state_dict(torch.load(\"experiments/example/checkpoints/epoch=122.ckpt\")['state_dict'])\n",
    "model = model.cuda()"
   ]
  },
  {
   "cell_type": "code",
   "execution_count": null,
   "id": "2dae5442",
   "metadata": {
    "ExecuteTime": {
     "start_time": "2022-01-19T08:05:11.871Z"
    },
    "scrolled": true
   },
   "outputs": [
    {
     "name": "stderr",
     "output_type": "stream",
     "text": [
      "  1%|          | 11/1579 [03:28<7:57:34, 18.27s/it]"
     ]
    }
   ],
   "source": [
    "#  optimizer는 선언하지 않았습니다.\n",
    "#  따라서 아마 model weight에 gradient는 계속 쌓이겠지만 저희가 중요한 것은 adjacency matrix의 graident이므로 상관 없을 것으로 예측됩니다.\n",
    "import os\n",
    "import math\n",
    "import copy\n",
    "import torch.nn as nn\n",
    "Relu = nn.ReLU()\n",
    "\n",
    "save_foler = \"ResultsImg/\"\n",
    "\n",
    "save_XAI = save_foler + \"/XAI/\"\n",
    "save_attention = save_foler + \"/attention\"\n",
    "\n",
    "os.mkdir(save_XAI)\n",
    "os.mkdir(save_attention)\n",
    "\n",
    "for batch_idx, batch in enumerate(tqdm(val_dataset)):\n",
    "    input_dict, target_dict = batch[0], batch[1]\n",
    "    input_dict['agent_features'] = input_dict['agent_features'].cuda()\n",
    "    input_dict['social_features'] = input_dict['social_features'].cuda()\n",
    "    input_dict['social_label_features'] = input_dict['social_label_features'].cuda()\n",
    "    input_dict['adjacency'] = input_dict['adjacency'].cuda()\n",
    "    input_dict['label_adjacency'] = input_dict['label_adjacency'].cuda()\n",
    "    input_dict['num_agent_mask'] = input_dict['num_agent_mask'].cuda()\n",
    "    input_dict['ifc_helpers']['agent_oracle_centerline'] = input_dict['ifc_helpers']['agent_oracle_centerline'].cuda()\n",
    "    input_dict['ifc_helpers']['agent_oracle_centerline_lengths'] = input_dict['ifc_helpers']['agent_oracle_centerline_lengths'].cuda()\n",
    "    input_dict['ifc_helpers']['social_oracle_centerline'] = input_dict['ifc_helpers']['social_oracle_centerline'].cuda()\n",
    "    input_dict['ifc_helpers']['social_oracle_centerline_lengths'] = input_dict['ifc_helpers']['social_oracle_centerline_lengths'].cuda()\n",
    "    input_dict['ifc_helpers']['agent_oracle_centerline'] = input_dict['ifc_helpers']['agent_oracle_centerline'].cuda()\n",
    "    target_dict['agent_labels'] = target_dict['agent_labels'].cuda()\n",
    "    \n",
    "    \n",
    "    preds, waypoint_preds, all_dist_params, attention, adjacency = model(**input_dict)\n",
    "    input_dict['adjacency'].requires_grad = True\n",
    "    loss, metrics = model.eval_preds(preds, target_dict, waypoint_preds)\n",
    "    input_dict['adjacency'].retain_grad()\n",
    "    adjacency.retain_grad()\n",
    "    loss.backward()\n",
    "    batch_preds = preds\n",
    "    for idx in range(25):\n",
    "\n",
    "        att = attention[idx].cpu().numpy()\n",
    "        agent_features = input_dict['agent_features'][idx].cpu().numpy()\n",
    "        social_features = input_dict['social_features'][idx].cpu().numpy()\n",
    "        # target = target_dict['agent_labels'][idx].cpu().numpy()\n",
    "        preds = batch_preds[idx][:,:,:,:2][0].cpu().detach().numpy()\n",
    "        city_name = input_dict['ifc_helpers']['city'][idx]\n",
    "        rotation = input_dict['ifc_helpers']['rotation'][idx].numpy()\n",
    "        translation = input_dict['ifc_helpers']['translation'][idx].numpy()\n",
    "        weight = adjacency.grad[idx][0].cpu().numpy()\n",
    "        \n",
    "        XAI_utils.draw_attention(agent_features, social_features, preds, city_name, rotation, translation, \n",
    "                                       weight = copy.deepcopy(att), draw_future=True, save_fig = True, \n",
    "                                       save_name = save_attention + \"/\" + str(batch_idx) + \"_\" + str(idx) + \".png\")\n",
    "        \n",
    "        XAI_utils.draw(agent_features, social_features, preds, city_name, rotation, translation, \n",
    "                           weight = copy.deepcopy(weight), draw_future=True, save_fig = True, \n",
    "                           save_name = save_XAI + \"/\" + str(batch_idx) + \"_\" + str(idx) + \".png\")\n",
    "\n",
    "    if batch_idx > 100:\n",
    "        break\n"
   ]
  }
 ],
 "metadata": {
  "kernelspec": {
   "display_name": "Python 3",
   "language": "python",
   "name": "python3"
  },
  "language_info": {
   "codemirror_mode": {
    "name": "ipython",
    "version": 3
   },
   "file_extension": ".py",
   "mimetype": "text/x-python",
   "name": "python",
   "nbconvert_exporter": "python",
   "pygments_lexer": "ipython3",
   "version": "3.8.10"
  },
  "toc": {
   "base_numbering": 1,
   "nav_menu": {},
   "number_sections": false,
   "sideBar": true,
   "skip_h1_title": false,
   "title_cell": "Table of Contents",
   "title_sidebar": "Contents",
   "toc_cell": false,
   "toc_position": {},
   "toc_section_display": true,
   "toc_window_display": false
  }
 },
 "nbformat": 4,
 "nbformat_minor": 5
}
