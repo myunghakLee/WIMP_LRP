{
 "cells": [
  {
   "cell_type": "code",
   "execution_count": 2,
   "id": "9922871c",
   "metadata": {
    "ExecuteTime": {
     "end_time": "2022-02-18T01:41:37.531750Z",
     "start_time": "2022-02-18T01:41:24.570716Z"
    }
   },
   "outputs": [],
   "source": [
    "# -*- coding: utf-8 -*-\n",
    "from matplotlib import pyplot as plt\n",
    "from tqdm import tqdm\n",
    "import numpy as np\n",
    "import copy\n",
    "import json\n",
    "import os\n",
    "import torch.optim as optim\n",
    "\n",
    "from torch.utils.data import DataLoader, Dataset\n",
    "import torch.nn.functional as F\n",
    "import torch.nn as nn\n",
    "import torch\n",
    "\n",
    "\n",
    "from src.data.argoverse_datamodule import ArgoverseDataModule\n",
    "from src.data.argoverse_dataset import ArgoverseDataset\n",
    "from src.data.dummy_datamodule import DummyDataModule\n",
    "from src.models.WIMP import WIMP\n",
    "import math\n",
    "\n",
    "import torch.backends.cudnn as cudnn\n",
    "import random\n",
    "os.environ[\"CUDA_VISIBLE_DEVICES\"]= \"1\""
   ]
  },
  {
   "cell_type": "code",
   "execution_count": 71,
   "id": "51417418",
   "metadata": {
    "ExecuteTime": {
     "end_time": "2022-02-18T02:51:16.762854Z",
     "start_time": "2022-02-18T02:51:16.748540Z"
    },
    "code_folding": []
   },
   "outputs": [],
   "source": [
    "args = {\"IFC\":True, \"add_centerline\":False, \"attention_heads\":4, \"batch_norm\":False, \"batch_size\":100, \"check_val_every_n_epoch\":3, \n",
    "          \"dataroot\":'./data/LRP_adjacency', \"dataset\":'argoverse', \"distributed_backend\":'ddp', \"dropout\":0.0, \n",
    "          \"early_stop_threshold\":5, \"experiment_name\":'example', \"gpus\":3, \"gradient_clipping\":True, \"graph_iter\":1, \n",
    "          \"hidden_dim\":512, \"hidden_key_generator\":True, \"hidden_transform\":False, \"input_dim\":2, \"k_value_threshold\":10, \n",
    "          \"k_values\":[6, 5, 4, 3, 2, 1], \"lr\":0.0001, \"map_features\":False, \"max_epochs\":200, \"mode\":'train', \"model_name\":'WIMP', \n",
    "          \"no_heuristic\":False, \"non_linearity\":'relu', \"num_layers\":4, \"num_mixtures\":6, \"num_nodes\":1, \"output_conv\":True, \"output_dim\":2, \n",
    "          \"output_prediction\":True, \"precision\":32, \"predict_delta\":False, \"resume_from_checkpoint\":None, \n",
    "          \"scheduler_step_size\":[60, 90, 120, 150, 180], \"seed\":None, \"segment_CL\":False, \"segment_CL_Encoder\":False, \n",
    "          \"segment_CL_Encoder_Gaussian\":False, \"segment_CL_Encoder_Gaussian_Prob\":False, \"segment_CL_Encoder_Prob\":True, \n",
    "          \"segment_CL_Gaussian_Prob\":False, \"segment_CL_Prob\":False, \"use_centerline_features\":True, \"use_oracle\":False, \"waypoint_step\":5, \n",
    "          \"weight_decay\":0.0, \"workers\":8, \"wta\":False, \"draw_image\" : False, \"remove_high_related_score\" : False, \"maximum_delete_num\" : 3, \n",
    "          \"save_json\": False, \"make_submit_file\" : False, \"use_hidden_feature\" : True, \"is_LRP\": False, \"adjacency_exp\" : True}\n",
    "\n",
    "from argparse import ArgumentParser\n",
    "parser = ArgumentParser()\n",
    "\n",
    "\n",
    "for k in args:\n",
    "    parser.add_argument(str(\"--\" + k), default = args[k], type= type(args[k]))\n",
    "parser.add_argument(\"--XAI_lambda\", default = 0.2, type= float)\n",
    "parser.add_argument(\"--name\", default = \"\", type=str)\n",
    "\n",
    "parser = parser.parse_args(args=[])"
   ]
  },
  {
   "cell_type": "code",
   "execution_count": 72,
   "id": "7626d917",
   "metadata": {
    "ExecuteTime": {
     "end_time": "2022-02-18T02:51:20.156879Z",
     "start_time": "2022-02-18T02:51:20.138502Z"
    },
    "code_folding": [
     0,
     7,
     23
    ]
   },
   "outputs": [],
   "source": [
    "def get_metric(metric_dict, ade,fde,mr,loss, length):\n",
    "    metric_dict[\"ade\"] += (ade * length).cpu().item()\n",
    "    metric_dict[\"fde\"] += (fde * length).cpu().item()\n",
    "    metric_dict[\"mr\"] += (mr * length).cpu().item()\n",
    "    metric_dict[\"loss\"] += (loss * length).cpu().item()\n",
    "    metric_dict[\"length\"]+=length\n",
    "\n",
    "def calc_mean(metric):\n",
    "    metric[\"fde\"] /= metric[\"length\"]\n",
    "    metric[\"ade\"] /= metric[\"length\"]\n",
    "    metric[\"mr\"] /= metric[\"length\"]\n",
    "    metric[\"loss\"] /= metric[\"length\"]\n",
    "    return {\n",
    "        \"fde\": metric[\"fde\"],\n",
    "        \"ade\": metric[\"ade\"],\n",
    "        \"loss\": metric[\"loss\"],\n",
    "        \"mr\": metric[\"mr\"]\n",
    "    }\n",
    "\n",
    "Relu = nn.ReLU()\n",
    "softmax = torch.nn.Softmax(dim=2)\n",
    "\n",
    "\n",
    "def normalize_max1(w):\n",
    "    for i in range(len(w)):\n",
    "        w[i] = w[i] / torch.max(abs(w[i]))\n",
    "    return w\n",
    "\n",
    "\n",
    "# f: adjacency matrix를 어떻게 normalize할 지(현재는 lrp값으로 되어 있음)\n",
    "def Test(dataset, f, f_name=None):\n",
    "    torch.manual_seed(0)\n",
    "    torch.cuda.manual_seed(0)\n",
    "    torch.cuda.manual_seed_all(0)\n",
    "    np.random.seed(0)\n",
    "    cudnn.benchmark = False\n",
    "    cudnn.deterministic = True\n",
    "    random.seed(0)\n",
    "    torch.backends.cudnn.benchmark = False\n",
    "\n",
    "    metrics = {\n",
    "        \"ade\": 0.0,\n",
    "        \"fde\": 0.0,\n",
    "        \"mr\": 0.0,\n",
    "        \"loss\": 0.0,\n",
    "        \"length\": 0,\n",
    "    }\n",
    "    \n",
    "    for batch_idx, batch in enumerate(tqdm(dataset)):\n",
    "        input_dict, target_dict = batch[0], batch[1]\n",
    "\n",
    "        # get cuda\n",
    "        input_dict[\"agent_features\"] = input_dict[\"agent_features\"].cuda()\n",
    "        input_dict[\"social_features\"] = input_dict[\"social_features\"].cuda()\n",
    "        input_dict[\"social_label_features\"] = input_dict[\"social_label_features\"].cuda()\n",
    "        input_dict[\"label_adjacency\"] = input_dict[\"label_adjacency\"].cuda()\n",
    "        input_dict[\"num_agent_mask\"] = input_dict[\"num_agent_mask\"].cuda()\n",
    "        input_dict[\"ifc_helpers\"][\"agent_oracle_centerline\"] = input_dict[\"ifc_helpers\"][\"agent_oracle_centerline\"].cuda()\n",
    "        input_dict[\"ifc_helpers\"][\"agent_oracle_centerline_lengths\"] = input_dict[\"ifc_helpers\"][\"agent_oracle_centerline_lengths\"].cuda()\n",
    "        input_dict[\"ifc_helpers\"][\"social_oracle_centerline\"] = input_dict[\"ifc_helpers\"][\"social_oracle_centerline\"].cuda()\n",
    "        input_dict[\"ifc_helpers\"][\"social_oracle_centerline_lengths\"] = input_dict[\"ifc_helpers\"][\"social_oracle_centerline_lengths\"].cuda()\n",
    "        input_dict[\"ifc_helpers\"][\"agent_oracle_centerline\"] = input_dict[\"ifc_helpers\"][\"agent_oracle_centerline\"].cuda()\n",
    "        input_dict[\"adjacency\"] = input_dict[\"adjacency\"].cuda()\n",
    "        \n",
    "        target_dict[\"agent_labels\"] = target_dict[\"agent_labels\"].cuda()\n",
    "        input_dict[\"adjacency\"] =f(input_dict[\"adjacency\"], input_dict['num_agent_mask'])\n",
    "        \n",
    "        input_dict['adjacency'][:,0,0] = input_dict['adjacency'][:,0,0].clamp(min = 1.0)\n",
    "\n",
    "        with torch.no_grad():\n",
    "            preds, waypoint_preds, all_dist_params, attention, adjacency, gan_features, graph_output = model(**input_dict)\n",
    "\n",
    "            loss, (ade, fde, mr) = model.eval_preds(preds, target_dict, waypoint_preds)\n",
    "\n",
    "            get_metric(metrics, ade, fde, mr, loss, len(input_dict[\"adjacency\"]))\n",
    "\n",
    "    write_json = {\n",
    "        \"metric\": calc_mean(metrics)\n",
    "    }\n",
    "    print(f_name)\n",
    "    print(write_json)\n"
   ]
  },
  {
   "cell_type": "code",
   "execution_count": 73,
   "id": "6b75ddbd",
   "metadata": {
    "ExecuteTime": {
     "end_time": "2022-02-18T02:51:21.735147Z",
     "start_time": "2022-02-18T02:51:20.317485Z"
    },
    "code_folding": [
     0,
     5,
     10,
     14
    ]
   },
   "outputs": [],
   "source": [
    "train_loader = ArgoverseDataset(parser.dataroot, mode='train', delta=parser.predict_delta,\n",
    "                              map_features_flag=parser.map_features,\n",
    "                              social_features_flag=True, heuristic=(not parser.no_heuristic),\n",
    "                              ifc=parser.IFC, is_oracle=parser.use_oracle)\n",
    "\n",
    "val_loader = ArgoverseDataset(parser.dataroot, mode='val', delta=parser.predict_delta,\n",
    "                              map_features_flag=parser.map_features,\n",
    "                              social_features_flag=True, heuristic=(not parser.no_heuristic),\n",
    "                              ifc=parser.IFC, is_oracle=parser.use_oracle)\n",
    "\n",
    "train_dataset = DataLoader(train_loader, batch_size=parser.batch_size, num_workers=parser.workers,\n",
    "                                pin_memory=True, collate_fn=ArgoverseDataset.collate,\n",
    "                                shuffle=True, drop_last=True)\n",
    "\n",
    "val_dataset = DataLoader(val_loader, batch_size=parser.batch_size, num_workers=parser.workers,\n",
    "                                pin_memory=True, collate_fn=ArgoverseDataset.collate,\n",
    "                                shuffle=False, drop_last=False)\n",
    "\n",
    "model = WIMP(parser)\n",
    "model.load_state_dict(torch.load(\"experiments/example_old/checkpoints/epoch=122.ckpt\")['state_dict'], strict=False) # 학습할 때에는 graph 모듈에서 p에 해당하는 network가 없었으므로\n",
    "\n",
    "model = model.cuda()\n",
    "optimizer = optim.SGD(model.parameters(), lr=0.0001, momentum=0.9)\n"
   ]
  },
  {
   "cell_type": "code",
   "execution_count": 74,
   "id": "1f405355",
   "metadata": {
    "ExecuteTime": {
     "end_time": "2022-02-18T02:51:29.605837Z",
     "start_time": "2022-02-18T02:51:21.736644Z"
    }
   },
   "outputs": [
    {
     "name": "stderr",
     "output_type": "stream",
     "text": [
      "  6%|▋         | 25/395 [00:07<01:55,  3.19it/s]\n"
     ]
    },
    {
     "ename": "KeyboardInterrupt",
     "evalue": "",
     "output_type": "error",
     "traceback": [
      "\u001b[0;31m---------------------------------------------------------------------------\u001b[0m",
      "\u001b[0;31mKeyboardInterrupt\u001b[0m                         Traceback (most recent call last)",
      "\u001b[0;32m<ipython-input-74-070551e3f7b4>\u001b[0m in \u001b[0;36m<module>\u001b[0;34m\u001b[0m\n\u001b[1;32m     13\u001b[0m \u001b[0;34m\u001b[0m\u001b[0m\n\u001b[1;32m     14\u001b[0m \u001b[0;32mfor\u001b[0m \u001b[0mf\u001b[0m \u001b[0;32min\u001b[0m \u001b[0;34m[\u001b[0m\u001b[0mf3\u001b[0m\u001b[0;34m,\u001b[0m \u001b[0mf5\u001b[0m\u001b[0;34m,\u001b[0m \u001b[0mf1\u001b[0m\u001b[0;34m]\u001b[0m\u001b[0;34m:\u001b[0m\u001b[0;34m\u001b[0m\u001b[0;34m\u001b[0m\u001b[0m\n\u001b[0;32m---> 15\u001b[0;31m     \u001b[0mTest\u001b[0m\u001b[0;34m(\u001b[0m\u001b[0mval_dataset\u001b[0m\u001b[0;34m,\u001b[0m \u001b[0mf\u001b[0m\u001b[0;34m,\u001b[0m \u001b[0;34m\"softmax(normalize_max1(abs(w))) * len(w[0])\"\u001b[0m\u001b[0;34m)\u001b[0m\u001b[0;34m\u001b[0m\u001b[0;34m\u001b[0m\u001b[0m\n\u001b[0m",
      "\u001b[0;32m<ipython-input-72-0b22ff65409b>\u001b[0m in \u001b[0;36mTest\u001b[0;34m(dataset, f, f_name)\u001b[0m\n\u001b[1;32m     69\u001b[0m \u001b[0;34m\u001b[0m\u001b[0m\n\u001b[1;32m     70\u001b[0m         \u001b[0;32mwith\u001b[0m \u001b[0mtorch\u001b[0m\u001b[0;34m.\u001b[0m\u001b[0mno_grad\u001b[0m\u001b[0;34m(\u001b[0m\u001b[0;34m)\u001b[0m\u001b[0;34m:\u001b[0m\u001b[0;34m\u001b[0m\u001b[0;34m\u001b[0m\u001b[0m\n\u001b[0;32m---> 71\u001b[0;31m             \u001b[0mpreds\u001b[0m\u001b[0;34m,\u001b[0m \u001b[0mwaypoint_preds\u001b[0m\u001b[0;34m,\u001b[0m \u001b[0mall_dist_params\u001b[0m\u001b[0;34m,\u001b[0m \u001b[0mattention\u001b[0m\u001b[0;34m,\u001b[0m \u001b[0madjacency\u001b[0m\u001b[0;34m,\u001b[0m \u001b[0mgan_features\u001b[0m\u001b[0;34m,\u001b[0m \u001b[0mgraph_output\u001b[0m \u001b[0;34m=\u001b[0m \u001b[0mmodel\u001b[0m\u001b[0;34m(\u001b[0m\u001b[0;34m**\u001b[0m\u001b[0minput_dict\u001b[0m\u001b[0;34m)\u001b[0m\u001b[0;34m\u001b[0m\u001b[0;34m\u001b[0m\u001b[0m\n\u001b[0m\u001b[1;32m     72\u001b[0m \u001b[0;34m\u001b[0m\u001b[0m\n\u001b[1;32m     73\u001b[0m             \u001b[0mloss\u001b[0m\u001b[0;34m,\u001b[0m \u001b[0;34m(\u001b[0m\u001b[0made\u001b[0m\u001b[0;34m,\u001b[0m \u001b[0mfde\u001b[0m\u001b[0;34m,\u001b[0m \u001b[0mmr\u001b[0m\u001b[0;34m)\u001b[0m \u001b[0;34m=\u001b[0m \u001b[0mmodel\u001b[0m\u001b[0;34m.\u001b[0m\u001b[0meval_preds\u001b[0m\u001b[0;34m(\u001b[0m\u001b[0mpreds\u001b[0m\u001b[0;34m,\u001b[0m \u001b[0mtarget_dict\u001b[0m\u001b[0;34m,\u001b[0m \u001b[0mwaypoint_preds\u001b[0m\u001b[0;34m)\u001b[0m\u001b[0;34m\u001b[0m\u001b[0;34m\u001b[0m\u001b[0m\n",
      "\u001b[0;32m/opt/conda/lib/python3.8/site-packages/torch/nn/modules/module.py\u001b[0m in \u001b[0;36m_call_impl\u001b[0;34m(self, *input, **kwargs)\u001b[0m\n\u001b[1;32m    887\u001b[0m             \u001b[0mresult\u001b[0m \u001b[0;34m=\u001b[0m \u001b[0mself\u001b[0m\u001b[0;34m.\u001b[0m\u001b[0m_slow_forward\u001b[0m\u001b[0;34m(\u001b[0m\u001b[0;34m*\u001b[0m\u001b[0minput\u001b[0m\u001b[0;34m,\u001b[0m \u001b[0;34m**\u001b[0m\u001b[0mkwargs\u001b[0m\u001b[0;34m)\u001b[0m\u001b[0;34m\u001b[0m\u001b[0;34m\u001b[0m\u001b[0m\n\u001b[1;32m    888\u001b[0m         \u001b[0;32melse\u001b[0m\u001b[0;34m:\u001b[0m\u001b[0;34m\u001b[0m\u001b[0;34m\u001b[0m\u001b[0m\n\u001b[0;32m--> 889\u001b[0;31m             \u001b[0mresult\u001b[0m \u001b[0;34m=\u001b[0m \u001b[0mself\u001b[0m\u001b[0;34m.\u001b[0m\u001b[0mforward\u001b[0m\u001b[0;34m(\u001b[0m\u001b[0;34m*\u001b[0m\u001b[0minput\u001b[0m\u001b[0;34m,\u001b[0m \u001b[0;34m**\u001b[0m\u001b[0mkwargs\u001b[0m\u001b[0;34m)\u001b[0m\u001b[0;34m\u001b[0m\u001b[0;34m\u001b[0m\u001b[0m\n\u001b[0m\u001b[1;32m    890\u001b[0m         for hook in itertools.chain(\n\u001b[1;32m    891\u001b[0m                 \u001b[0m_global_forward_hooks\u001b[0m\u001b[0;34m.\u001b[0m\u001b[0mvalues\u001b[0m\u001b[0;34m(\u001b[0m\u001b[0;34m)\u001b[0m\u001b[0;34m,\u001b[0m\u001b[0;34m\u001b[0m\u001b[0;34m\u001b[0m\u001b[0m\n",
      "\u001b[0;32m/workspace/MotionPrediction/WIMP/src/models/WIMP.py\u001b[0m in \u001b[0;36mforward\u001b[0;34m(self, agent_features, social_features, adjacency, num_agent_mask, outsteps, social_label_features, label_adjacency, classmate_forcing, labels, ifc_helpers, test, map_estimate, gt, idx, sample_next, num_predictions, am)\u001b[0m\n\u001b[1;32m     95\u001b[0m                 gt=None, idx=None, sample_next=False, num_predictions=1, am=None):\n\u001b[1;32m     96\u001b[0m         \u001b[0;31m# Encode agent and social features\u001b[0m\u001b[0;34m\u001b[0m\u001b[0;34m\u001b[0m\u001b[0;34m\u001b[0m\u001b[0m\n\u001b[0;32m---> 97\u001b[0;31m         encoding, hidden, waypoint_predictions = self.encoder(agent_features, social_features,\n\u001b[0m\u001b[1;32m     98\u001b[0m                                                               num_agent_mask, ifc_helpers)\n\u001b[1;32m     99\u001b[0m \u001b[0;34m\u001b[0m\u001b[0m\n",
      "\u001b[0;32m/opt/conda/lib/python3.8/site-packages/torch/nn/modules/module.py\u001b[0m in \u001b[0;36m_call_impl\u001b[0;34m(self, *input, **kwargs)\u001b[0m\n\u001b[1;32m    887\u001b[0m             \u001b[0mresult\u001b[0m \u001b[0;34m=\u001b[0m \u001b[0mself\u001b[0m\u001b[0;34m.\u001b[0m\u001b[0m_slow_forward\u001b[0m\u001b[0;34m(\u001b[0m\u001b[0;34m*\u001b[0m\u001b[0minput\u001b[0m\u001b[0;34m,\u001b[0m \u001b[0;34m**\u001b[0m\u001b[0mkwargs\u001b[0m\u001b[0;34m)\u001b[0m\u001b[0;34m\u001b[0m\u001b[0;34m\u001b[0m\u001b[0m\n\u001b[1;32m    888\u001b[0m         \u001b[0;32melse\u001b[0m\u001b[0;34m:\u001b[0m\u001b[0;34m\u001b[0m\u001b[0;34m\u001b[0m\u001b[0m\n\u001b[0;32m--> 889\u001b[0;31m             \u001b[0mresult\u001b[0m \u001b[0;34m=\u001b[0m \u001b[0mself\u001b[0m\u001b[0;34m.\u001b[0m\u001b[0mforward\u001b[0m\u001b[0;34m(\u001b[0m\u001b[0;34m*\u001b[0m\u001b[0minput\u001b[0m\u001b[0;34m,\u001b[0m \u001b[0;34m**\u001b[0m\u001b[0mkwargs\u001b[0m\u001b[0;34m)\u001b[0m\u001b[0;34m\u001b[0m\u001b[0;34m\u001b[0m\u001b[0m\n\u001b[0m\u001b[1;32m    890\u001b[0m         for hook in itertools.chain(\n\u001b[1;32m    891\u001b[0m                 \u001b[0m_global_forward_hooks\u001b[0m\u001b[0;34m.\u001b[0m\u001b[0mvalues\u001b[0m\u001b[0;34m(\u001b[0m\u001b[0;34m)\u001b[0m\u001b[0;34m,\u001b[0m\u001b[0;34m\u001b[0m\u001b[0;34m\u001b[0m\u001b[0m\n",
      "\u001b[0;32m/workspace/MotionPrediction/WIMP/src/models/WIMP_encoder.py\u001b[0m in \u001b[0;36mforward\u001b[0;34m(self, agent_features, social_features, num_agent_mask, ifc_helpers, visualize_centerline)\u001b[0m\n\u001b[1;32m     72\u001b[0m \u001b[0;34m\u001b[0m\u001b[0m\n\u001b[1;32m     73\u001b[0m             \u001b[0;32mwith\u001b[0m \u001b[0mtorch\u001b[0m\u001b[0;34m.\u001b[0m\u001b[0mno_grad\u001b[0m\u001b[0;34m(\u001b[0m\u001b[0;34m)\u001b[0m\u001b[0;34m:\u001b[0m\u001b[0;34m\u001b[0m\u001b[0;34m\u001b[0m\u001b[0m\n\u001b[0;32m---> 74\u001b[0;31m                 \u001b[0mindexer\u001b[0m \u001b[0;34m=\u001b[0m \u001b[0mtorch\u001b[0m\u001b[0;34m.\u001b[0m\u001b[0marange\u001b[0m\u001b[0;34m(\u001b[0m\u001b[0mcenterline_features\u001b[0m\u001b[0;34m.\u001b[0m\u001b[0msize\u001b[0m\u001b[0;34m(\u001b[0m\u001b[0;36m1\u001b[0m\u001b[0;34m)\u001b[0m\u001b[0;34m)\u001b[0m\u001b[0;34m.\u001b[0m\u001b[0mtype_as\u001b[0m\u001b[0;34m(\u001b[0m\u001b[0mcenterline_features\u001b[0m\u001b[0;34m)\u001b[0m\u001b[0;34m\u001b[0m\u001b[0;34m\u001b[0m\u001b[0m\n\u001b[0m\u001b[1;32m     75\u001b[0m                 \u001b[0mcenterline_mask_byte\u001b[0m \u001b[0;34m=\u001b[0m \u001b[0mall_centerline_lengths_nonzero\u001b[0m\u001b[0;34m[\u001b[0m\u001b[0;34m:\u001b[0m\u001b[0;34m,\u001b[0m \u001b[0;32mNone\u001b[0m\u001b[0;34m]\u001b[0m \u001b[0;34m>\u001b[0m \u001b[0mindexer\u001b[0m\u001b[0;34m\u001b[0m\u001b[0;34m\u001b[0m\u001b[0m\n\u001b[1;32m     76\u001b[0m                 \u001b[0mcenterlines_masked\u001b[0m \u001b[0;34m=\u001b[0m \u001b[0mtorch\u001b[0m\u001b[0;34m.\u001b[0m\u001b[0mwhere\u001b[0m\u001b[0;34m(\u001b[0m\u001b[0mcenterline_mask_byte\u001b[0m\u001b[0;34m.\u001b[0m\u001b[0munsqueeze\u001b[0m\u001b[0;34m(\u001b[0m\u001b[0;34m-\u001b[0m\u001b[0;36m1\u001b[0m\u001b[0;34m)\u001b[0m\u001b[0;34m,\u001b[0m \u001b[0mall_centerline_nonzero\u001b[0m\u001b[0;34m,\u001b[0m \u001b[0mtorch\u001b[0m\u001b[0;34m.\u001b[0m\u001b[0mzeros_like\u001b[0m\u001b[0;34m(\u001b[0m\u001b[0mall_centerline_nonzero\u001b[0m\u001b[0;34m)\u001b[0m\u001b[0;34m.\u001b[0m\u001b[0mfill_\u001b[0m\u001b[0;34m(\u001b[0m\u001b[0mnp\u001b[0m\u001b[0;34m.\u001b[0m\u001b[0mfloat\u001b[0m\u001b[0;34m(\u001b[0m\u001b[0;34m\"inf\"\u001b[0m\u001b[0;34m)\u001b[0m\u001b[0;34m)\u001b[0m\u001b[0;34m)\u001b[0m\u001b[0;34m\u001b[0m\u001b[0;34m\u001b[0m\u001b[0m\n",
      "\u001b[0;31mKeyboardInterrupt\u001b[0m: "
     ]
    }
   ],
   "source": [
    "softmax = torch.nn.Softmax(dim=2)\n",
    "\n",
    "f1 = lambda w, _: softmax(normalize_max1(abs(w))) * len(w[0])\n",
    "# f2 = lambda w, _: softmax(normalize_max1(relu(w) + 0.000001)) * len(w[0])\n",
    "f3 = lambda w, _: softmax(normalize_max1(abs(w))*2) * len(w[0])\n",
    "# f4 = lambda w, _: softmax(normalize_max1(relu(w))*2 + 0.000001) * len(w[0])\n",
    "f5 = lambda w, _: softmax(normalize_max1(abs(w))*0.5) * len(w[0])\n",
    "# f6 = lambda w, _: softmax(normalize_max1(relu(w))*0.5 + 0.000001) * len(w[0])\n",
    "\n",
    "f10 = lambda w, _: softmax(abs(w)) * len(w[0])\n",
    "f11 = lambda w, _: softmax(abs(w)*0.5) * len(w[0])\n",
    "f12 = lambda w, _: softmax(abs(w)*2) * len(w[0])\n",
    "\n",
    "for f in [f3, f5, f1]:\n",
    "    Test(val_dataset, f, \"softmax(normalize_max1(abs(w))) * len(w[0])\")"
   ]
  },
  {
   "cell_type": "code",
   "execution_count": 58,
   "id": "4746c780",
   "metadata": {
    "ExecuteTime": {
     "end_time": "2022-02-18T02:26:46.438313Z",
     "start_time": "2022-02-18T02:26:43.475475Z"
    }
   },
   "outputs": [
    {
     "name": "stderr",
     "output_type": "stream",
     "text": [
      "  2%|▏         | 6/395 [00:02<03:09,  2.05it/s]\n"
     ]
    },
    {
     "ename": "KeyboardInterrupt",
     "evalue": "",
     "output_type": "error",
     "traceback": [
      "\u001b[0;31m---------------------------------------------------------------------------\u001b[0m",
      "\u001b[0;31mKeyboardInterrupt\u001b[0m                         Traceback (most recent call last)",
      "\u001b[0;32m<ipython-input-58-dce4a6070812>\u001b[0m in \u001b[0;36m<module>\u001b[0;34m\u001b[0m\n\u001b[1;32m      1\u001b[0m \u001b[0;32mfor\u001b[0m \u001b[0mf\u001b[0m \u001b[0;32min\u001b[0m \u001b[0;34m[\u001b[0m\u001b[0mf3\u001b[0m\u001b[0;34m,\u001b[0m \u001b[0mf5\u001b[0m\u001b[0;34m]\u001b[0m\u001b[0;34m:\u001b[0m\u001b[0;34m\u001b[0m\u001b[0;34m\u001b[0m\u001b[0m\n\u001b[0;32m----> 2\u001b[0;31m     \u001b[0mTest\u001b[0m\u001b[0;34m(\u001b[0m\u001b[0mval_dataset\u001b[0m\u001b[0;34m,\u001b[0m \u001b[0mf\u001b[0m\u001b[0;34m,\u001b[0m \u001b[0;34m\"softmax(normalize_max1(abs(w))) * len(w[0])\"\u001b[0m\u001b[0;34m)\u001b[0m\u001b[0;34m\u001b[0m\u001b[0;34m\u001b[0m\u001b[0m\n\u001b[0m",
      "\u001b[0;32m<ipython-input-4-0b22ff65409b>\u001b[0m in \u001b[0;36mTest\u001b[0;34m(dataset, f, f_name)\u001b[0m\n\u001b[1;32m     69\u001b[0m \u001b[0;34m\u001b[0m\u001b[0m\n\u001b[1;32m     70\u001b[0m         \u001b[0;32mwith\u001b[0m \u001b[0mtorch\u001b[0m\u001b[0;34m.\u001b[0m\u001b[0mno_grad\u001b[0m\u001b[0;34m(\u001b[0m\u001b[0;34m)\u001b[0m\u001b[0;34m:\u001b[0m\u001b[0;34m\u001b[0m\u001b[0;34m\u001b[0m\u001b[0m\n\u001b[0;32m---> 71\u001b[0;31m             \u001b[0mpreds\u001b[0m\u001b[0;34m,\u001b[0m \u001b[0mwaypoint_preds\u001b[0m\u001b[0;34m,\u001b[0m \u001b[0mall_dist_params\u001b[0m\u001b[0;34m,\u001b[0m \u001b[0mattention\u001b[0m\u001b[0;34m,\u001b[0m \u001b[0madjacency\u001b[0m\u001b[0;34m,\u001b[0m \u001b[0mgan_features\u001b[0m\u001b[0;34m,\u001b[0m \u001b[0mgraph_output\u001b[0m \u001b[0;34m=\u001b[0m \u001b[0mmodel\u001b[0m\u001b[0;34m(\u001b[0m\u001b[0;34m**\u001b[0m\u001b[0minput_dict\u001b[0m\u001b[0;34m)\u001b[0m\u001b[0;34m\u001b[0m\u001b[0;34m\u001b[0m\u001b[0m\n\u001b[0m\u001b[1;32m     72\u001b[0m \u001b[0;34m\u001b[0m\u001b[0m\n\u001b[1;32m     73\u001b[0m             \u001b[0mloss\u001b[0m\u001b[0;34m,\u001b[0m \u001b[0;34m(\u001b[0m\u001b[0made\u001b[0m\u001b[0;34m,\u001b[0m \u001b[0mfde\u001b[0m\u001b[0;34m,\u001b[0m \u001b[0mmr\u001b[0m\u001b[0;34m)\u001b[0m \u001b[0;34m=\u001b[0m \u001b[0mmodel\u001b[0m\u001b[0;34m.\u001b[0m\u001b[0meval_preds\u001b[0m\u001b[0;34m(\u001b[0m\u001b[0mpreds\u001b[0m\u001b[0;34m,\u001b[0m \u001b[0mtarget_dict\u001b[0m\u001b[0;34m,\u001b[0m \u001b[0mwaypoint_preds\u001b[0m\u001b[0;34m)\u001b[0m\u001b[0;34m\u001b[0m\u001b[0;34m\u001b[0m\u001b[0m\n",
      "\u001b[0;32m/opt/conda/lib/python3.8/site-packages/torch/nn/modules/module.py\u001b[0m in \u001b[0;36m_call_impl\u001b[0;34m(self, *input, **kwargs)\u001b[0m\n\u001b[1;32m    887\u001b[0m             \u001b[0mresult\u001b[0m \u001b[0;34m=\u001b[0m \u001b[0mself\u001b[0m\u001b[0;34m.\u001b[0m\u001b[0m_slow_forward\u001b[0m\u001b[0;34m(\u001b[0m\u001b[0;34m*\u001b[0m\u001b[0minput\u001b[0m\u001b[0;34m,\u001b[0m \u001b[0;34m**\u001b[0m\u001b[0mkwargs\u001b[0m\u001b[0;34m)\u001b[0m\u001b[0;34m\u001b[0m\u001b[0;34m\u001b[0m\u001b[0m\n\u001b[1;32m    888\u001b[0m         \u001b[0;32melse\u001b[0m\u001b[0;34m:\u001b[0m\u001b[0;34m\u001b[0m\u001b[0;34m\u001b[0m\u001b[0m\n\u001b[0;32m--> 889\u001b[0;31m             \u001b[0mresult\u001b[0m \u001b[0;34m=\u001b[0m \u001b[0mself\u001b[0m\u001b[0;34m.\u001b[0m\u001b[0mforward\u001b[0m\u001b[0;34m(\u001b[0m\u001b[0;34m*\u001b[0m\u001b[0minput\u001b[0m\u001b[0;34m,\u001b[0m \u001b[0;34m**\u001b[0m\u001b[0mkwargs\u001b[0m\u001b[0;34m)\u001b[0m\u001b[0;34m\u001b[0m\u001b[0;34m\u001b[0m\u001b[0m\n\u001b[0m\u001b[1;32m    890\u001b[0m         for hook in itertools.chain(\n\u001b[1;32m    891\u001b[0m                 \u001b[0m_global_forward_hooks\u001b[0m\u001b[0;34m.\u001b[0m\u001b[0mvalues\u001b[0m\u001b[0;34m(\u001b[0m\u001b[0;34m)\u001b[0m\u001b[0;34m,\u001b[0m\u001b[0;34m\u001b[0m\u001b[0;34m\u001b[0m\u001b[0m\n",
      "\u001b[0;32m/workspace/MotionPrediction/WIMP/src/models/WIMP.py\u001b[0m in \u001b[0;36mforward\u001b[0;34m(self, agent_features, social_features, adjacency, num_agent_mask, outsteps, social_label_features, label_adjacency, classmate_forcing, labels, ifc_helpers, test, map_estimate, gt, idx, sample_next, num_predictions, am)\u001b[0m\n\u001b[1;32m     95\u001b[0m                 gt=None, idx=None, sample_next=False, num_predictions=1, am=None):\n\u001b[1;32m     96\u001b[0m         \u001b[0;31m# Encode agent and social features\u001b[0m\u001b[0;34m\u001b[0m\u001b[0;34m\u001b[0m\u001b[0;34m\u001b[0m\u001b[0m\n\u001b[0;32m---> 97\u001b[0;31m         encoding, hidden, waypoint_predictions = self.encoder(agent_features, social_features,\n\u001b[0m\u001b[1;32m     98\u001b[0m                                                               num_agent_mask, ifc_helpers)\n\u001b[1;32m     99\u001b[0m \u001b[0;34m\u001b[0m\u001b[0m\n",
      "\u001b[0;32m/opt/conda/lib/python3.8/site-packages/torch/nn/modules/module.py\u001b[0m in \u001b[0;36m_call_impl\u001b[0;34m(self, *input, **kwargs)\u001b[0m\n\u001b[1;32m    887\u001b[0m             \u001b[0mresult\u001b[0m \u001b[0;34m=\u001b[0m \u001b[0mself\u001b[0m\u001b[0;34m.\u001b[0m\u001b[0m_slow_forward\u001b[0m\u001b[0;34m(\u001b[0m\u001b[0;34m*\u001b[0m\u001b[0minput\u001b[0m\u001b[0;34m,\u001b[0m \u001b[0;34m**\u001b[0m\u001b[0mkwargs\u001b[0m\u001b[0;34m)\u001b[0m\u001b[0;34m\u001b[0m\u001b[0;34m\u001b[0m\u001b[0m\n\u001b[1;32m    888\u001b[0m         \u001b[0;32melse\u001b[0m\u001b[0;34m:\u001b[0m\u001b[0;34m\u001b[0m\u001b[0;34m\u001b[0m\u001b[0m\n\u001b[0;32m--> 889\u001b[0;31m             \u001b[0mresult\u001b[0m \u001b[0;34m=\u001b[0m \u001b[0mself\u001b[0m\u001b[0;34m.\u001b[0m\u001b[0mforward\u001b[0m\u001b[0;34m(\u001b[0m\u001b[0;34m*\u001b[0m\u001b[0minput\u001b[0m\u001b[0;34m,\u001b[0m \u001b[0;34m**\u001b[0m\u001b[0mkwargs\u001b[0m\u001b[0;34m)\u001b[0m\u001b[0;34m\u001b[0m\u001b[0;34m\u001b[0m\u001b[0m\n\u001b[0m\u001b[1;32m    890\u001b[0m         for hook in itertools.chain(\n\u001b[1;32m    891\u001b[0m                 \u001b[0m_global_forward_hooks\u001b[0m\u001b[0;34m.\u001b[0m\u001b[0mvalues\u001b[0m\u001b[0;34m(\u001b[0m\u001b[0;34m)\u001b[0m\u001b[0;34m,\u001b[0m\u001b[0;34m\u001b[0m\u001b[0;34m\u001b[0m\u001b[0m\n",
      "\u001b[0;32m/workspace/MotionPrediction/WIMP/src/models/WIMP_encoder.py\u001b[0m in \u001b[0;36mforward\u001b[0;34m(self, agent_features, social_features, num_agent_mask, ifc_helpers, visualize_centerline)\u001b[0m\n\u001b[1;32m     72\u001b[0m \u001b[0;34m\u001b[0m\u001b[0m\n\u001b[1;32m     73\u001b[0m             \u001b[0;32mwith\u001b[0m \u001b[0mtorch\u001b[0m\u001b[0;34m.\u001b[0m\u001b[0mno_grad\u001b[0m\u001b[0;34m(\u001b[0m\u001b[0;34m)\u001b[0m\u001b[0;34m:\u001b[0m\u001b[0;34m\u001b[0m\u001b[0;34m\u001b[0m\u001b[0m\n\u001b[0;32m---> 74\u001b[0;31m                 \u001b[0mindexer\u001b[0m \u001b[0;34m=\u001b[0m \u001b[0mtorch\u001b[0m\u001b[0;34m.\u001b[0m\u001b[0marange\u001b[0m\u001b[0;34m(\u001b[0m\u001b[0mcenterline_features\u001b[0m\u001b[0;34m.\u001b[0m\u001b[0msize\u001b[0m\u001b[0;34m(\u001b[0m\u001b[0;36m1\u001b[0m\u001b[0;34m)\u001b[0m\u001b[0;34m)\u001b[0m\u001b[0;34m.\u001b[0m\u001b[0mtype_as\u001b[0m\u001b[0;34m(\u001b[0m\u001b[0mcenterline_features\u001b[0m\u001b[0;34m)\u001b[0m\u001b[0;34m\u001b[0m\u001b[0;34m\u001b[0m\u001b[0m\n\u001b[0m\u001b[1;32m     75\u001b[0m                 \u001b[0mcenterline_mask_byte\u001b[0m \u001b[0;34m=\u001b[0m \u001b[0mall_centerline_lengths_nonzero\u001b[0m\u001b[0;34m[\u001b[0m\u001b[0;34m:\u001b[0m\u001b[0;34m,\u001b[0m \u001b[0;32mNone\u001b[0m\u001b[0;34m]\u001b[0m \u001b[0;34m>\u001b[0m \u001b[0mindexer\u001b[0m\u001b[0;34m\u001b[0m\u001b[0;34m\u001b[0m\u001b[0m\n\u001b[1;32m     76\u001b[0m                 \u001b[0mcenterlines_masked\u001b[0m \u001b[0;34m=\u001b[0m \u001b[0mtorch\u001b[0m\u001b[0;34m.\u001b[0m\u001b[0mwhere\u001b[0m\u001b[0;34m(\u001b[0m\u001b[0mcenterline_mask_byte\u001b[0m\u001b[0;34m.\u001b[0m\u001b[0munsqueeze\u001b[0m\u001b[0;34m(\u001b[0m\u001b[0;34m-\u001b[0m\u001b[0;36m1\u001b[0m\u001b[0;34m)\u001b[0m\u001b[0;34m,\u001b[0m \u001b[0mall_centerline_nonzero\u001b[0m\u001b[0;34m,\u001b[0m \u001b[0mtorch\u001b[0m\u001b[0;34m.\u001b[0m\u001b[0mzeros_like\u001b[0m\u001b[0;34m(\u001b[0m\u001b[0mall_centerline_nonzero\u001b[0m\u001b[0;34m)\u001b[0m\u001b[0;34m.\u001b[0m\u001b[0mfill_\u001b[0m\u001b[0;34m(\u001b[0m\u001b[0mnp\u001b[0m\u001b[0;34m.\u001b[0m\u001b[0mfloat\u001b[0m\u001b[0;34m(\u001b[0m\u001b[0;34m\"inf\"\u001b[0m\u001b[0;34m)\u001b[0m\u001b[0;34m)\u001b[0m\u001b[0;34m)\u001b[0m\u001b[0;34m\u001b[0m\u001b[0;34m\u001b[0m\u001b[0m\n",
      "\u001b[0;31mKeyboardInterrupt\u001b[0m: "
     ]
    }
   ],
   "source": [
    "for f in [f3, f5]:\n",
    "    Test(val_dataset, f, \"softmax(normalize_max1(abs(w))) * len(w[0])\")"
   ]
  },
  {
   "cell_type": "code",
   "execution_count": 61,
   "id": "f4464162",
   "metadata": {
    "ExecuteTime": {
     "end_time": "2022-02-18T02:35:58.258028Z",
     "start_time": "2022-02-18T02:34:12.664232Z"
    }
   },
   "outputs": [
    {
     "name": "stderr",
     "output_type": "stream",
     "text": [
      "100%|██████████| 395/395 [01:45<00:00,  3.74it/s]"
     ]
    },
    {
     "name": "stdout",
     "output_type": "stream",
     "text": [
      "softmax(normalize_max1(abs(w))) * len(w[0])\n",
      "{'metric': {'fde': 1.1460760357798379, 'ade': 0.7543620654432021, 'loss': 6.051380298956232, 'mr': 0.11765301784475564}}\n"
     ]
    },
    {
     "name": "stderr",
     "output_type": "stream",
     "text": [
      "\n"
     ]
    }
   ],
   "source": [
    "softmax = torch.nn.Softmax(dim=0)\n",
    "\n",
    "def f1(w, mask):\n",
    "    w = abs(w)\n",
    "    for i in range(len(w)):\n",
    "#         print(w[i].shape)\n",
    "        num_agent = int(torch.sum(mask[i]))+1\n",
    "#         print(num_agent)\n",
    "        w[i,0,:num_agent] = softmax(w[i,0,:num_agent]*0.25) * num_agent\n",
    "        w[i,1:,:] = 1\n",
    "    return w\n",
    "    \n",
    "# f1 = lambda w: softmax(normalize_max1(abs(w))) * len(w[0])\n",
    "Test(val_dataset, f1, \"softmax(normalize_max1(abs(w))) * len(w[0])\")"
   ]
  },
  {
   "cell_type": "code",
   "execution_count": 70,
   "id": "28310eb8",
   "metadata": {
    "ExecuteTime": {
     "end_time": "2022-02-18T02:50:05.339697Z",
     "start_time": "2022-02-18T02:48:17.416237Z"
    }
   },
   "outputs": [
    {
     "name": "stderr",
     "output_type": "stream",
     "text": [
      "100%|██████████| 395/395 [01:47<00:00,  3.66it/s]"
     ]
    },
    {
     "name": "stdout",
     "output_type": "stream",
     "text": [
      "to_gaussian(w[0,0, :num_agent], mean = 1, std = 0.1)\n",
      "{'metric': {'fde': 1.144936785796513, 'ade': 0.7533492711472715, 'loss': 6.033516781408389, 'mr': 0.11674097837539738}}\n"
     ]
    },
    {
     "name": "stderr",
     "output_type": "stream",
     "text": [
      "\n"
     ]
    }
   ],
   "source": [
    "f1 = lambda w: softmax(normalize_max1(abs(w))*2) * len(w[0])\n",
    "to_gaussian = lambda arr, mean = 0, std = 1: ((arr - torch.mean(arr))/ (torch.std(arr) + 0.00001)) * std + mean\n",
    "softmax0 = torch.nn.Softmax(dim=0)\n",
    "\n",
    "\n",
    "def f2(w, mask = None):\n",
    "    for i in range(len(w)):\n",
    "        num_agent = int(torch.sum(mask[i]))+1\n",
    "        \n",
    "        w[i,0, :num_agent] = (softmax0(to_gaussian(abs(w[i,0, :num_agent]) * num_agent, mean = 1, std = 0.12))*num_agent) ** 1.5\n",
    "#         print(w[i,0, :num_agent])\n",
    "#         assert False, \"SS\"\n",
    "    return w\n",
    "\n",
    "Test(val_dataset, f2, \"to_gaussian(w[0,0, :num_agent], mean = 1, std = 0.1)\")"
   ]
  },
  {
   "cell_type": "code",
   "execution_count": 78,
   "id": "0fc8ce75",
   "metadata": {
    "ExecuteTime": {
     "end_time": "2022-02-18T04:05:57.292482Z",
     "start_time": "2022-02-18T03:47:55.885719Z"
    }
   },
   "outputs": [
    {
     "name": "stderr",
     "output_type": "stream",
     "text": [
      "\r",
      "  0%|          | 0/395 [00:00<?, ?it/s]"
     ]
    },
    {
     "name": "stdout",
     "output_type": "stream",
     "text": [
      "0.1\n"
     ]
    },
    {
     "name": "stderr",
     "output_type": "stream",
     "text": [
      "100%|██████████| 395/395 [01:47<00:00,  3.66it/s]\n",
      "  0%|          | 0/395 [00:00<?, ?it/s]"
     ]
    },
    {
     "name": "stdout",
     "output_type": "stream",
     "text": [
      "to_gaussian(w[0,0, :num_agent], mean = 1, std = 0.1)\n",
      "{'metric': {'fde': 1.1439233589713564, 'ade': 0.7533491165182781, 'loss': 6.0448233631877795, 'mr': 0.1165636378258503}}\n",
      "0.11\n"
     ]
    },
    {
     "name": "stderr",
     "output_type": "stream",
     "text": [
      "100%|██████████| 395/395 [01:47<00:00,  3.66it/s]\n",
      "  0%|          | 0/395 [00:00<?, ?it/s]"
     ]
    },
    {
     "name": "stdout",
     "output_type": "stream",
     "text": [
      "to_gaussian(w[0,0, :num_agent], mean = 1, std = 0.1)\n",
      "{'metric': {'fde': 1.1439675648878305, 'ade': 0.7531639085784343, 'loss': 6.044360651388118, 'mr': 0.11610761848982404}}\n",
      "0.12\n"
     ]
    },
    {
     "name": "stderr",
     "output_type": "stream",
     "text": [
      "100%|██████████| 395/395 [01:48<00:00,  3.66it/s]\n",
      "  0%|          | 0/395 [00:00<?, ?it/s]"
     ]
    },
    {
     "name": "stdout",
     "output_type": "stream",
     "text": [
      "to_gaussian(w[0,0, :num_agent], mean = 1, std = 0.1)\n",
      "{'metric': {'fde': 1.1439954319317234, 'ade': 0.7534587692528251, 'loss': 6.043938089006576, 'mr': 0.11593027774699072}}\n",
      "0.13\n"
     ]
    },
    {
     "name": "stderr",
     "output_type": "stream",
     "text": [
      "100%|██████████| 395/395 [01:47<00:00,  3.68it/s]\n",
      "  0%|          | 0/395 [00:00<?, ?it/s]"
     ]
    },
    {
     "name": "stdout",
     "output_type": "stream",
     "text": [
      "to_gaussian(w[0,0, :num_agent], mean = 1, std = 0.1)\n",
      "{'metric': {'fde': 1.1441172041968386, 'ade': 0.7532955338996482, 'loss': 6.043616700375375, 'mr': 0.11610761855022599}}\n",
      "0.14\n"
     ]
    },
    {
     "name": "stderr",
     "output_type": "stream",
     "text": [
      "100%|██████████| 395/395 [01:48<00:00,  3.64it/s]\n",
      "  0%|          | 0/395 [00:00<?, ?it/s]"
     ]
    },
    {
     "name": "stdout",
     "output_type": "stream",
     "text": [
      "to_gaussian(w[0,0, :num_agent], mean = 1, std = 0.1)\n",
      "{'metric': {'fde': 1.1441735618260402, 'ade': 0.7535290388525572, 'loss': 6.0433739228049514, 'mr': 0.11610761847774365}}\n",
      "0.15\n"
     ]
    },
    {
     "name": "stderr",
     "output_type": "stream",
     "text": [
      "100%|██████████| 395/395 [01:48<00:00,  3.64it/s]\n",
      "  0%|          | 0/395 [00:00<?, ?it/s]"
     ]
    },
    {
     "name": "stdout",
     "output_type": "stream",
     "text": [
      "to_gaussian(w[0,0, :num_agent], mean = 1, std = 0.1)\n",
      "{'metric': {'fde': 1.144359085692246, 'ade': 0.7535849920302979, 'loss': 6.043218140279324, 'mr': 0.11618362159974477}}\n",
      "0.16\n"
     ]
    },
    {
     "name": "stderr",
     "output_type": "stream",
     "text": [
      "100%|██████████| 395/395 [01:48<00:00,  3.65it/s]\n",
      "  0%|          | 0/395 [00:00<?, ?it/s]"
     ]
    },
    {
     "name": "stdout",
     "output_type": "stream",
     "text": [
      "to_gaussian(w[0,0, :num_agent], mean = 1, std = 0.1)\n",
      "{'metric': {'fde': 1.1446375454491722, 'ade': 0.7538069694883968, 'loss': 6.043156997655924, 'mr': 0.11610761835693975}}\n",
      "0.17\n"
     ]
    },
    {
     "name": "stderr",
     "output_type": "stream",
     "text": [
      "100%|██████████| 395/395 [01:47<00:00,  3.66it/s]\n",
      "  0%|          | 0/395 [00:00<?, ?it/s]"
     ]
    },
    {
     "name": "stdout",
     "output_type": "stream",
     "text": [
      "to_gaussian(w[0,0, :num_agent], mean = 1, std = 0.1)\n",
      "{'metric': {'fde': 1.1448083592659557, 'ade': 0.7537462764487945, 'loss': 6.043074806160805, 'mr': 0.11620895586904843}}\n",
      "0.18\n"
     ]
    },
    {
     "name": "stderr",
     "output_type": "stream",
     "text": [
      "100%|██████████| 395/395 [01:48<00:00,  3.64it/s]\n",
      "  0%|          | 0/395 [00:00<?, ?it/s]"
     ]
    },
    {
     "name": "stdout",
     "output_type": "stream",
     "text": [
      "to_gaussian(w[0,0, :num_agent], mean = 1, std = 0.1)\n",
      "{'metric': {'fde': 1.1453997102110407, 'ade': 0.7541039863674565, 'loss': 6.043130600167326, 'mr': 0.11623429047660302}}\n",
      "0.19\n"
     ]
    },
    {
     "name": "stderr",
     "output_type": "stream",
     "text": [
      "100%|██████████| 395/395 [01:48<00:00,  3.64it/s]"
     ]
    },
    {
     "name": "stdout",
     "output_type": "stream",
     "text": [
      "to_gaussian(w[0,0, :num_agent], mean = 1, std = 0.1)\n",
      "{'metric': {'fde': 1.1459321774690316, 'ade': 0.7545272774381293, 'loss': 6.043216008718651, 'mr': 0.11653830341158196}}\n"
     ]
    },
    {
     "name": "stderr",
     "output_type": "stream",
     "text": [
      "\n"
     ]
    }
   ],
   "source": [
    "f1 = lambda w: softmax(normalize_max1(abs(w))*2) * len(w[0])\n",
    "to_gaussian = lambda arr, mean = 0, std = 1: ((arr - torch.mean(arr))/ (torch.std(arr) + 0.00001)) * std + mean\n",
    "softmax0 = torch.nn.Softmax(dim=0)\n",
    "\n",
    "\n",
    "for std in range(10, 20):\n",
    "    print(std/100)\n",
    "    def f2(w, mask = None):\n",
    "        for i in range(len(w)):\n",
    "            num_agent = int(torch.sum(mask[i]))+1\n",
    "            w[i,0, :num_agent] = softmax0(to_gaussian(abs(w[i,0, :num_agent]) * num_agent, mean = 1, std = std/100))*num_agent\n",
    "        return w\n",
    "\n",
    "\n",
    "\n",
    "    Test(val_dataset, f2, \"to_gaussian(w[0,0, :num_agent], mean = 1, std = 0.1)\")\n"
   ]
  },
  {
   "cell_type": "code",
   "execution_count": 35,
   "id": "2c6b2198",
   "metadata": {
    "ExecuteTime": {
     "end_time": "2022-02-18T01:54:08.999541Z",
     "start_time": "2022-02-18T01:54:07.527691Z"
    }
   },
   "outputs": [
    {
     "name": "stdout",
     "output_type": "stream",
     "text": [
      "tensor([ 0.0421,  0.0122,  0.0135, -0.0362,  0.0171, -0.0192, -0.0164,  0.0150,\n",
      "         0.0025,  0.0181, -0.0038, -0.0078,  0.0000,  0.0000,  0.0000,  0.0000,\n",
      "         0.0000,  0.0000,  0.0000,  0.0000,  0.0000,  0.0000,  0.0000,  0.0000,\n",
      "         0.0000,  0.0000,  0.0000,  0.0000,  0.0000])\n",
      "tensor([1.1896, 1.0306, 1.0422, 1.1675, 1.0692, 1.0836, 1.0642, 1.0540, 0.8833,\n",
      "        1.0761, 0.9177, 0.9842, 0.4376, 0.0000, 0.0000, 0.0000, 0.0000, 0.0000,\n",
      "        0.0000, 0.0000, 0.0000, 0.0000, 0.0000, 0.0000, 0.0000, 0.0000, 0.0000,\n",
      "        0.0000, 0.0000])\n"
     ]
    }
   ],
   "source": [
    "from matplotlib import pyplot as plt\n",
    "\n",
    "for ii, d in enumerate(val_dataset):\n",
    "    \n",
    "    input_dict, traget_dict = d[0], d[1]\n",
    "    break\n",
    "# plt.show()\n",
    "a = torch.tensor([[1,2,3],[1,2,3]]).float()\n",
    "print(input_dict['adjacency'][0,0])\n",
    "print(f1(input_dict['adjacency'], input_dict['num_agent_mask'])[0,0])\n"
   ]
  },
  {
   "cell_type": "code",
   "execution_count": 24,
   "id": "63d0c713",
   "metadata": {
    "ExecuteTime": {
     "end_time": "2022-02-17T16:42:28.367781Z",
     "start_time": "2022-02-17T16:40:41.701519Z"
    }
   },
   "outputs": [
    {
     "name": "stderr",
     "output_type": "stream",
     "text": [
      "100%|██████████| 395/395 [01:46<00:00,  3.70it/s]"
     ]
    },
    {
     "name": "stdout",
     "output_type": "stream",
     "text": [
      "to_gaussian(w[0,0, :num_agent], mean = 1, std = 0.1)\n",
      "{'metric': {'fde': 1.1442772898540643, 'ade': 0.7533639042687696, 'loss': 6.041107798569783, 'mr': 0.11671564417857606}}\n"
     ]
    },
    {
     "name": "stderr",
     "output_type": "stream",
     "text": [
      "\n"
     ]
    }
   ],
   "source": [
    "f1 = lambda w: softmax(normalize_max1(abs(w))*2) * len(w[0])\n",
    "to_gaussian = lambda arr, mean = 0, std = 1: ((arr - torch.mean(arr))/ (torch.std(arr) + 0.00001)) * std + mean\n",
    "\n",
    "\n",
    "def f2(w, mask = None):\n",
    "    for i in range(len(w)):\n",
    "        num_agent = int(torch.sum(mask[i]))\n",
    "        \n",
    "        w[i,0, :num_agent] = to_gaussian(abs(w[i,0, :num_agent]), mean = 1, std = 0.1)\n",
    "    return w\n",
    "\n",
    "Test(val_dataset, f2, \"to_gaussian(w[0,0, :num_agent], mean = 1, std = 0.1)\")"
   ]
  },
  {
   "cell_type": "code",
   "execution_count": 37,
   "id": "53384ca2",
   "metadata": {
    "ExecuteTime": {
     "end_time": "2022-02-18T01:58:46.451035Z",
     "start_time": "2022-02-18T01:57:00.478791Z"
    }
   },
   "outputs": [
    {
     "name": "stderr",
     "output_type": "stream",
     "text": [
      "100%|██████████| 395/395 [01:45<00:00,  3.73it/s]"
     ]
    },
    {
     "name": "stdout",
     "output_type": "stream",
     "text": [
      "to_gaussian(w[0,0, :num_agent], mean = 1, std = 0.1)\n",
      "{'metric': {'fde': 1.144170692878355, 'ade': 0.7532816630990872, 'loss': 6.039364519803496, 'mr': 0.11653830343574273}}\n"
     ]
    },
    {
     "name": "stderr",
     "output_type": "stream",
     "text": [
      "\n"
     ]
    }
   ],
   "source": [
    "f1 = lambda w: softmax(normalize_max1(abs(w))*2) * len(w[0])\n",
    "to_gaussian = lambda arr, mean = 0, std = 1: ((arr - torch.mean(arr))/ (torch.std(arr) + 0.00001)) * std + mean\n",
    "softmax0 = torch.nn.Softmax(dim=0)\n",
    "\n",
    "\n",
    "def f2(w, mask = None):\n",
    "    for i in range(len(w)):\n",
    "        num_agent = int(torch.sum(mask[i]))+1\n",
    "        \n",
    "        w[i,0, :num_agent] = to_gaussian(softmax0(abs(w[i,0, :num_agent])) * num_agent, mean = 1, std = 0.12)\n",
    "        print(w[i,0, :num_agent])\n",
    "        assert False, \"SS\"\n",
    "    return w\n",
    "\n",
    "Test(val_dataset, f2, \"to_gaussian(w[0,0, :num_agent], mean = 1, std = 0.1)\")"
   ]
  },
  {
   "cell_type": "code",
   "execution_count": null,
   "id": "a106f5c0",
   "metadata": {
    "ExecuteTime": {
     "start_time": "2022-02-17T17:27:55.911Z"
    },
    "collapsed": true
   },
   "outputs": [
    {
     "name": "stderr",
     "output_type": "stream",
     "text": [
      "100%|██████████| 395/395 [01:44<00:00,  3.76it/s]\n",
      "  0%|          | 0/395 [00:00<?, ?it/s]"
     ]
    },
    {
     "name": "stdout",
     "output_type": "stream",
     "text": [
      "to_gaussian(w[0,0, :num_agent], mean = 1, std = 0.01)\n",
      "{'metric': {'fde': 1.1459254470488105, 'ade': 0.7541138015394516, 'loss': 6.050708923834657, 'mr': 0.11777968962616799}}\n"
     ]
    },
    {
     "name": "stderr",
     "output_type": "stream",
     "text": [
      "100%|██████████| 395/395 [01:45<00:00,  3.75it/s]\n",
      "  0%|          | 0/395 [00:00<?, ?it/s]"
     ]
    },
    {
     "name": "stdout",
     "output_type": "stream",
     "text": [
      "to_gaussian(w[0,0, :num_agent], mean = 1, std = 0.02)\n",
      "{'metric': {'fde': 1.1457067941140684, 'ade': 0.7540020617000671, 'loss': 6.049396532674912, 'mr': 0.11793169630506428}}\n"
     ]
    },
    {
     "name": "stderr",
     "output_type": "stream",
     "text": [
      "100%|██████████| 395/395 [01:45<00:00,  3.73it/s]\n",
      "  0%|          | 0/395 [00:00<?, ?it/s]"
     ]
    },
    {
     "name": "stdout",
     "output_type": "stream",
     "text": [
      "to_gaussian(w[0,0, :num_agent], mean = 1, std = 0.03)\n",
      "{'metric': {'fde': 1.1456022392075025, 'ade': 0.7538116609320545, 'loss': 6.048189703636339, 'mr': 0.11767835200533579}}\n"
     ]
    },
    {
     "name": "stderr",
     "output_type": "stream",
     "text": [
      "100%|██████████| 395/395 [01:47<00:00,  3.67it/s]\n",
      "  0%|          | 0/395 [00:00<?, ?it/s]"
     ]
    },
    {
     "name": "stdout",
     "output_type": "stream",
     "text": [
      "to_gaussian(w[0,0, :num_agent], mean = 1, std = 0.04)\n",
      "{'metric': {'fde': 1.1451893668451143, 'ade': 0.7536560880253563, 'loss': 6.047007648481935, 'mr': 0.11734900463192773}}\n"
     ]
    },
    {
     "name": "stderr",
     "output_type": "stream",
     "text": [
      "100%|██████████| 395/395 [01:45<00:00,  3.73it/s]\n",
      "  0%|          | 0/395 [00:00<?, ?it/s]"
     ]
    },
    {
     "name": "stdout",
     "output_type": "stream",
     "text": [
      "to_gaussian(w[0,0, :num_agent], mean = 1, std = 0.05)\n",
      "{'metric': {'fde': 1.1451274054611942, 'ade': 0.7534275749795679, 'loss': 6.045887819127027, 'mr': 0.11691831969808943}}\n"
     ]
    },
    {
     "name": "stderr",
     "output_type": "stream",
     "text": [
      "100%|██████████| 395/395 [01:45<00:00,  3.76it/s]\n",
      "  0%|          | 0/395 [00:00<?, ?it/s]"
     ]
    },
    {
     "name": "stdout",
     "output_type": "stream",
     "text": [
      "to_gaussian(w[0,0, :num_agent], mean = 1, std = 0.06)\n",
      "{'metric': {'fde': 1.1448225669644359, 'ade': 0.75341788235105, 'loss': 6.044649250941283, 'mr': 0.1164623003137416}}\n"
     ]
    },
    {
     "name": "stderr",
     "output_type": "stream",
     "text": [
      "100%|██████████| 395/395 [01:45<00:00,  3.75it/s]\n",
      "  0%|          | 0/395 [00:00<?, ?it/s]"
     ]
    },
    {
     "name": "stdout",
     "output_type": "stream",
     "text": [
      "to_gaussian(w[0,0, :num_agent], mean = 1, std = 0.07)\n",
      "{'metric': {'fde': 1.144603864548416, 'ade': 0.7533016757632636, 'loss': 6.0436585275180725, 'mr': 0.11648763476425113}}\n"
     ]
    },
    {
     "name": "stderr",
     "output_type": "stream",
     "text": [
      "100%|██████████| 395/395 [01:45<00:00,  3.74it/s]\n",
      "  0%|          | 0/395 [00:00<?, ?it/s]"
     ]
    },
    {
     "name": "stdout",
     "output_type": "stream",
     "text": [
      "to_gaussian(w[0,0, :num_agent], mean = 1, std = 0.08)\n",
      "{'metric': {'fde': 1.1445466361646957, 'ade': 0.7530758408916398, 'loss': 6.042845696247102, 'mr': 0.11658897226427942}}\n"
     ]
    },
    {
     "name": "stderr",
     "output_type": "stream",
     "text": [
      "100%|██████████| 395/395 [01:47<00:00,  3.69it/s]\n",
      "  0%|          | 0/395 [00:00<?, ?it/s]"
     ]
    },
    {
     "name": "stdout",
     "output_type": "stream",
     "text": [
      "to_gaussian(w[0,0, :num_agent], mean = 1, std = 0.09)\n",
      "{'metric': {'fde': 1.1444995002220844, 'ade': 0.7534844160176599, 'loss': 6.04200772771383, 'mr': 0.11674097867740713}}\n"
     ]
    },
    {
     "name": "stderr",
     "output_type": "stream",
     "text": [
      "100%|██████████| 395/395 [01:46<00:00,  3.70it/s]\n",
      "  0%|          | 0/395 [00:00<?, ?it/s]"
     ]
    },
    {
     "name": "stdout",
     "output_type": "stream",
     "text": [
      "to_gaussian(w[0,0, :num_agent], mean = 1, std = 0.1)\n",
      "{'metric': {'fde': 1.1442772898540643, 'ade': 0.7533639042687696, 'loss': 6.041107798569783, 'mr': 0.11671564417857606}}\n"
     ]
    },
    {
     "name": "stderr",
     "output_type": "stream",
     "text": [
      "100%|██████████| 395/395 [01:49<00:00,  3.62it/s]\n",
      "  0%|          | 0/395 [00:00<?, ?it/s]"
     ]
    },
    {
     "name": "stdout",
     "output_type": "stream",
     "text": [
      "to_gaussian(w[0,0, :num_agent], mean = 1, std = 0.11)\n",
      "{'metric': {'fde': 1.1441264173788341, 'ade': 0.7533306694726593, 'loss': 6.040248816729462, 'mr': 0.11646230003589264}}\n"
     ]
    },
    {
     "name": "stderr",
     "output_type": "stream",
     "text": [
      "100%|██████████| 395/395 [01:45<00:00,  3.73it/s]\n",
      "  0%|          | 0/395 [00:00<?, ?it/s]"
     ]
    },
    {
     "name": "stdout",
     "output_type": "stream",
     "text": [
      "to_gaussian(w[0,0, :num_agent], mean = 1, std = 0.12)\n",
      "{'metric': {'fde': 1.1441575014789336, 'ade': 0.7533443949219666, 'loss': 6.0394837805071875, 'mr': 0.11651296903355478}}\n"
     ]
    },
    {
     "name": "stderr",
     "output_type": "stream",
     "text": [
      "100%|██████████| 395/395 [01:45<00:00,  3.73it/s]\n",
      "  0%|          | 0/395 [00:00<?, ?it/s]"
     ]
    },
    {
     "name": "stdout",
     "output_type": "stream",
     "text": [
      "to_gaussian(w[0,0, :num_agent], mean = 1, std = 0.13)\n",
      "{'metric': {'fde': 1.144088762319663, 'ade': 0.7532748039502289, 'loss': 6.03876812118821, 'mr': 0.116487634667608}}\n"
     ]
    },
    {
     "name": "stderr",
     "output_type": "stream",
     "text": [
      "100%|██████████| 395/395 [01:47<00:00,  3.69it/s]\n",
      "  0%|          | 0/395 [00:00<?, ?it/s]"
     ]
    },
    {
     "name": "stdout",
     "output_type": "stream",
     "text": [
      "to_gaussian(w[0,0, :num_agent], mean = 1, std = 0.14)\n",
      "{'metric': {'fde': 1.144130922494555, 'ade': 0.7532348453056296, 'loss': 6.038126864701956, 'mr': 0.11651296886442931}}\n"
     ]
    },
    {
     "name": "stderr",
     "output_type": "stream",
     "text": [
      "100%|██████████| 395/395 [01:46<00:00,  3.73it/s]\n",
      "  0%|          | 0/395 [00:00<?, ?it/s]"
     ]
    },
    {
     "name": "stdout",
     "output_type": "stream",
     "text": [
      "to_gaussian(w[0,0, :num_agent], mean = 1, std = 0.15)\n",
      "{'metric': {'fde': 1.1441213430351316, 'ade': 0.7533688790700578, 'loss': 6.037506592143244, 'mr': 0.11679164749386342}}\n"
     ]
    },
    {
     "name": "stderr",
     "output_type": "stream",
     "text": [
      "100%|██████████| 395/395 [01:46<00:00,  3.70it/s]\n",
      "  0%|          | 0/395 [00:00<?, ?it/s]"
     ]
    },
    {
     "name": "stdout",
     "output_type": "stream",
     "text": [
      "to_gaussian(w[0,0, :num_agent], mean = 1, std = 0.16)\n",
      "{'metric': {'fde': 1.144252773620457, 'ade': 0.7534449949987417, 'loss': 6.037009073357182, 'mr': 0.11684231635864128}}\n"
     ]
    },
    {
     "name": "stderr",
     "output_type": "stream",
     "text": [
      "100%|██████████| 395/395 [01:45<00:00,  3.74it/s]\n",
      "  0%|          | 0/395 [00:00<?, ?it/s]"
     ]
    },
    {
     "name": "stdout",
     "output_type": "stream",
     "text": [
      "to_gaussian(w[0,0, :num_agent], mean = 1, std = 0.17)\n",
      "{'metric': {'fde': 1.1441901883085488, 'ade': 0.7533014768717209, 'loss': 6.036437188076209, 'mr': 0.11671564414233489}}\n"
     ]
    },
    {
     "name": "stderr",
     "output_type": "stream",
     "text": [
      "100%|██████████| 395/395 [01:46<00:00,  3.71it/s]\n",
      "  0%|          | 0/395 [00:00<?, ?it/s]"
     ]
    },
    {
     "name": "stdout",
     "output_type": "stream",
     "text": [
      "to_gaussian(w[0,0, :num_agent], mean = 1, std = 0.18)\n",
      "{'metric': {'fde': 1.1442964145612466, 'ade': 0.7531704510277856, 'loss': 6.035872099512639, 'mr': 0.11651296855033917}}\n"
     ]
    },
    {
     "name": "stderr",
     "output_type": "stream",
     "text": [
      "100%|██████████| 395/395 [01:45<00:00,  3.75it/s]\n",
      "  0%|          | 0/395 [00:00<?, ?it/s]"
     ]
    },
    {
     "name": "stdout",
     "output_type": "stream",
     "text": [
      "to_gaussian(w[0,0, :num_agent], mean = 1, std = 0.19)\n",
      "{'metric': {'fde': 1.1444113661414659, 'ade': 0.7534620741576282, 'loss': 6.035370227920414, 'mr': 0.11658897186562654}}\n"
     ]
    },
    {
     "name": "stderr",
     "output_type": "stream",
     "text": [
      "100%|██████████| 395/395 [01:46<00:00,  3.70it/s]\n",
      "  0%|          | 0/395 [00:00<?, ?it/s]"
     ]
    },
    {
     "name": "stdout",
     "output_type": "stream",
     "text": [
      "to_gaussian(w[0,0, :num_agent], mean = 1, std = 0.2)\n",
      "{'metric': {'fde': 1.1445597850411442, 'ade': 0.7534030736290012, 'loss': 6.034875516423726, 'mr': 0.11661430627989489}}\n"
     ]
    },
    {
     "name": "stderr",
     "output_type": "stream",
     "text": [
      "100%|██████████| 395/395 [01:46<00:00,  3.70it/s]\n",
      "  0%|          | 0/395 [00:00<?, ?it/s]"
     ]
    },
    {
     "name": "stdout",
     "output_type": "stream",
     "text": [
      "to_gaussian(w[0,0, :num_agent], mean = 1, std = 0.21)\n",
      "{'metric': {'fde': 1.1446437362142068, 'ade': 0.7535020423698966, 'loss': 6.034370739352718, 'mr': 0.11663964081496712}}\n"
     ]
    },
    {
     "name": "stderr",
     "output_type": "stream",
     "text": [
      "100%|██████████| 395/395 [01:45<00:00,  3.74it/s]\n",
      "  0%|          | 0/395 [00:00<?, ?it/s]"
     ]
    },
    {
     "name": "stdout",
     "output_type": "stream",
     "text": [
      "to_gaussian(w[0,0, :num_agent], mean = 1, std = 0.22)\n",
      "{'metric': {'fde': 1.14472300270863, 'ade': 0.7533952301699574, 'loss': 6.033933597003394, 'mr': 0.11641163106239127}}\n"
     ]
    },
    {
     "name": "stderr",
     "output_type": "stream",
     "text": [
      "100%|██████████| 395/395 [01:45<00:00,  3.75it/s]\n",
      "  0%|          | 0/395 [00:00<?, ?it/s]"
     ]
    },
    {
     "name": "stdout",
     "output_type": "stream",
     "text": [
      "to_gaussian(w[0,0, :num_agent], mean = 1, std = 0.23)\n",
      "{'metric': {'fde': 1.1448546774144785, 'ade': 0.7537027883974221, 'loss': 6.033498225929189, 'mr': 0.11646229992716912}}\n"
     ]
    },
    {
     "name": "stderr",
     "output_type": "stream",
     "text": [
      "100%|██████████| 395/395 [01:45<00:00,  3.74it/s]\n",
      "  0%|          | 0/395 [00:00<?, ?it/s]"
     ]
    },
    {
     "name": "stdout",
     "output_type": "stream",
     "text": [
      "to_gaussian(w[0,0, :num_agent], mean = 1, std = 0.24)\n",
      "{'metric': {'fde': 1.145087909350571, 'ade': 0.7539708555397061, 'loss': 6.0330929959115105, 'mr': 0.11658897197435006}}\n"
     ]
    },
    {
     "name": "stderr",
     "output_type": "stream",
     "text": [
      "100%|██████████| 395/395 [01:45<00:00,  3.74it/s]\n",
      "  0%|          | 0/395 [00:00<?, ?it/s]"
     ]
    },
    {
     "name": "stdout",
     "output_type": "stream",
     "text": [
      "to_gaussian(w[0,0, :num_agent], mean = 1, std = 0.25)\n",
      "{'metric': {'fde': 1.1451399837566572, 'ade': 0.7540527873547589, 'loss': 6.0326802563367705, 'mr': 0.11681698179940826}}\n"
     ]
    },
    {
     "name": "stderr",
     "output_type": "stream",
     "text": [
      "100%|██████████| 395/395 [01:46<00:00,  3.72it/s]\n",
      "  0%|          | 0/395 [00:00<?, ?it/s]"
     ]
    },
    {
     "name": "stdout",
     "output_type": "stream",
     "text": [
      "to_gaussian(w[0,0, :num_agent], mean = 1, std = 0.26)\n",
      "{'metric': {'fde': 1.1454268435403603, 'ade': 0.7537265822237013, 'loss': 6.032376155227024, 'mr': 0.11666497537420015}}\n"
     ]
    },
    {
     "name": "stderr",
     "output_type": "stream",
     "text": [
      "100%|██████████| 395/395 [01:47<00:00,  3.69it/s]\n",
      "  0%|          | 0/395 [00:00<?, ?it/s]"
     ]
    },
    {
     "name": "stdout",
     "output_type": "stream",
     "text": [
      "to_gaussian(w[0,0, :num_agent], mean = 1, std = 0.27)\n",
      "{'metric': {'fde': 1.145597511426031, 'ade': 0.7541485957689599, 'loss': 6.032023083888233, 'mr': 0.11676631323664015}}\n"
     ]
    },
    {
     "name": "stderr",
     "output_type": "stream",
     "text": [
      "100%|██████████| 395/395 [01:47<00:00,  3.67it/s]\n",
      "  0%|          | 0/395 [00:00<?, ?it/s]"
     ]
    },
    {
     "name": "stdout",
     "output_type": "stream",
     "text": [
      "to_gaussian(w[0,0, :num_agent], mean = 1, std = 0.28)\n",
      "{'metric': {'fde': 1.1456930273015054, 'ade': 0.7540821199915793, 'loss': 6.0316335572179725, 'mr': 0.11681698216181996}}\n"
     ]
    },
    {
     "name": "stderr",
     "output_type": "stream",
     "text": [
      "100%|██████████| 395/395 [01:47<00:00,  3.69it/s]\n",
      "  0%|          | 0/395 [00:00<?, ?it/s]"
     ]
    },
    {
     "name": "stdout",
     "output_type": "stream",
     "text": [
      "to_gaussian(w[0,0, :num_agent], mean = 1, std = 0.29)\n",
      "{'metric': {'fde': 1.1458623269138715, 'ade': 0.7542104263947375, 'loss': 6.0313460802713, 'mr': 0.11679164774755162}}\n"
     ]
    },
    {
     "name": "stderr",
     "output_type": "stream",
     "text": [
      "100%|██████████| 395/395 [01:47<00:00,  3.66it/s]\n",
      "  0%|          | 0/395 [00:00<?, ?it/s]"
     ]
    },
    {
     "name": "stdout",
     "output_type": "stream",
     "text": [
      "to_gaussian(w[0,0, :num_agent], mean = 1, std = 0.3)\n",
      "{'metric': {'fde': 1.1459956975132046, 'ade': 0.75433028976493, 'loss': 6.031032692144214, 'mr': 0.11691831981889332}}\n"
     ]
    },
    {
     "name": "stderr",
     "output_type": "stream",
     "text": [
      "100%|██████████| 395/395 [01:47<00:00,  3.67it/s]\n",
      "  0%|          | 0/395 [00:00<?, ?it/s]"
     ]
    },
    {
     "name": "stdout",
     "output_type": "stream",
     "text": [
      "to_gaussian(w[0,0, :num_agent], mean = 1, std = 0.31)\n",
      "{'metric': {'fde': 1.1462657442931758, 'ade': 0.7544094501452066, 'loss': 6.030798133104786, 'mr': 0.11684231647944518}}\n"
     ]
    },
    {
     "name": "stderr",
     "output_type": "stream",
     "text": [
      "100%|██████████| 395/395 [01:46<00:00,  3.69it/s]\n",
      "  0%|          | 0/395 [00:00<?, ?it/s]"
     ]
    },
    {
     "name": "stdout",
     "output_type": "stream",
     "text": [
      "to_gaussian(w[0,0, :num_agent], mean = 1, std = 0.32)\n",
      "{'metric': {'fde': 1.1464330615618474, 'ade': 0.7547402061041811, 'loss': 6.030586867376915, 'mr': 0.11679164746970265}}\n"
     ]
    },
    {
     "name": "stderr",
     "output_type": "stream",
     "text": [
      "100%|██████████| 395/395 [01:46<00:00,  3.69it/s]\n",
      "  0%|          | 0/395 [00:00<?, ?it/s]"
     ]
    },
    {
     "name": "stdout",
     "output_type": "stream",
     "text": [
      "to_gaussian(w[0,0, :num_agent], mean = 1, std = 0.33)\n",
      "{'metric': {'fde': 1.146663884764796, 'ade': 0.7550356597807614, 'loss': 6.030336409384391, 'mr': 0.11658897211931474}}\n"
     ]
    },
    {
     "name": "stderr",
     "output_type": "stream",
     "text": [
      "100%|██████████| 395/395 [01:47<00:00,  3.66it/s]\n",
      "  0%|          | 0/395 [00:00<?, ?it/s]"
     ]
    },
    {
     "name": "stdout",
     "output_type": "stream",
     "text": [
      "to_gaussian(w[0,0, :num_agent], mean = 1, std = 0.34)\n",
      "{'metric': {'fde': 1.1469550229394585, 'ade': 0.7551113650728248, 'loss': 6.030210124658678, 'mr': 0.11686765078499001}}\n"
     ]
    },
    {
     "name": "stderr",
     "output_type": "stream",
     "text": [
      "100%|██████████| 395/395 [01:46<00:00,  3.70it/s]\n",
      "  0%|          | 0/395 [00:00<?, ?it/s]"
     ]
    },
    {
     "name": "stdout",
     "output_type": "stream",
     "text": [
      "to_gaussian(w[0,0, :num_agent], mean = 1, std = 0.35)\n",
      "{'metric': {'fde': 1.1471590914608352, 'ade': 0.7551838422913661, 'loss': 6.030043539751576, 'mr': 0.1170703260387348}}\n"
     ]
    },
    {
     "name": "stderr",
     "output_type": "stream",
     "text": [
      "100%|██████████| 395/395 [01:47<00:00,  3.69it/s]\n",
      "  0%|          | 0/395 [00:00<?, ?it/s]"
     ]
    },
    {
     "name": "stdout",
     "output_type": "stream",
     "text": [
      "to_gaussian(w[0,0, :num_agent], mean = 1, std = 0.36)\n",
      "{'metric': {'fde': 1.1472761432893566, 'ade': 0.7549211565279796, 'loss': 6.029829070110963, 'mr': 0.11704499170902918}}\n"
     ]
    },
    {
     "name": "stderr",
     "output_type": "stream",
     "text": [
      "100%|██████████| 395/395 [01:46<00:00,  3.70it/s]\n",
      "  0%|          | 0/395 [00:00<?, ?it/s]"
     ]
    },
    {
     "name": "stdout",
     "output_type": "stream",
     "text": [
      "to_gaussian(w[0,0, :num_agent], mean = 1, std = 0.37)\n",
      "{'metric': {'fde': 1.1474007713586925, 'ade': 0.7551624068471648, 'loss': 6.029716509481553, 'mr': 0.11701965734308241}}\n"
     ]
    },
    {
     "name": "stderr",
     "output_type": "stream",
     "text": [
      "100%|██████████| 395/395 [01:45<00:00,  3.74it/s]\n",
      "  0%|          | 0/395 [00:00<?, ?it/s]"
     ]
    },
    {
     "name": "stdout",
     "output_type": "stream",
     "text": [
      "to_gaussian(w[0,0, :num_agent], mean = 1, std = 0.38)\n",
      "{'metric': {'fde': 1.1475719804458402, 'ade': 0.7552700427364231, 'loss': 6.029593139512364, 'mr': 0.11701965750012748}}\n"
     ]
    },
    {
     "name": "stderr",
     "output_type": "stream",
     "text": [
      "100%|██████████| 395/395 [01:46<00:00,  3.73it/s]\n",
      "  0%|          | 0/395 [00:00<?, ?it/s]"
     ]
    },
    {
     "name": "stdout",
     "output_type": "stream",
     "text": [
      "to_gaussian(w[0,0, :num_agent], mean = 1, std = 0.39)\n",
      "{'metric': {'fde': 1.1476701835799323, 'ade': 0.7553925953947391, 'loss': 6.029489486286115, 'mr': 0.11709566080333446}}\n"
     ]
    },
    {
     "name": "stderr",
     "output_type": "stream",
     "text": [
      "100%|██████████| 395/395 [01:46<00:00,  3.71it/s]\n",
      "  0%|          | 0/395 [00:00<?, ?it/s]"
     ]
    },
    {
     "name": "stdout",
     "output_type": "stream",
     "text": [
      "to_gaussian(w[0,0, :num_agent], mean = 1, std = 0.4)\n",
      "{'metric': {'fde': 1.1478208964007268, 'ade': 0.7554983221957884, 'loss': 6.029416961422515, 'mr': 0.11714632959562997}}\n"
     ]
    },
    {
     "name": "stderr",
     "output_type": "stream",
     "text": [
      "100%|██████████| 395/395 [01:46<00:00,  3.72it/s]\n",
      "  0%|          | 0/395 [00:00<?, ?it/s]"
     ]
    },
    {
     "name": "stdout",
     "output_type": "stream",
     "text": [
      "to_gaussian(w[0,0, :num_agent], mean = 1, std = 0.41)\n",
      "{'metric': {'fde': 1.1479590794409051, 'ade': 0.755613097305669, 'loss': 6.029340308737939, 'mr': 0.11686765113532133}}\n"
     ]
    },
    {
     "name": "stderr",
     "output_type": "stream",
     "text": [
      "100%|██████████| 395/395 [01:46<00:00,  3.71it/s]\n",
      "  0%|          | 0/395 [00:00<?, ?it/s]"
     ]
    },
    {
     "name": "stdout",
     "output_type": "stream",
     "text": [
      "to_gaussian(w[0,0, :num_agent], mean = 1, std = 0.42)\n",
      "{'metric': {'fde': 1.1481327086650848, 'ade': 0.7555645229268471, 'loss': 6.029295758578668, 'mr': 0.11696898869575158}}\n"
     ]
    },
    {
     "name": "stderr",
     "output_type": "stream",
     "text": [
      "100%|██████████| 395/395 [01:45<00:00,  3.74it/s]\n",
      "  0%|          | 0/395 [00:00<?, ?it/s]"
     ]
    },
    {
     "name": "stdout",
     "output_type": "stream",
     "text": [
      "to_gaussian(w[0,0, :num_agent], mean = 1, std = 0.43)\n",
      "{'metric': {'fde': 1.148380135929338, 'ade': 0.7555524118042302, 'loss': 6.029287154248334, 'mr': 0.11704499195063699}}\n"
     ]
    },
    {
     "name": "stderr",
     "output_type": "stream",
     "text": [
      "100%|██████████| 395/395 [01:45<00:00,  3.73it/s]\n",
      "  0%|          | 0/395 [00:00<?, ?it/s]"
     ]
    },
    {
     "name": "stdout",
     "output_type": "stream",
     "text": [
      "to_gaussian(w[0,0, :num_agent], mean = 1, std = 0.44)\n",
      "{'metric': {'fde': 1.1486063393978247, 'ade': 0.7556602633042909, 'loss': 6.029251652204609, 'mr': 0.11732367064047304}}\n"
     ]
    },
    {
     "name": "stderr",
     "output_type": "stream",
     "text": [
      "100%|██████████| 395/395 [01:46<00:00,  3.71it/s]\n",
      "  0%|          | 0/395 [00:00<?, ?it/s]"
     ]
    },
    {
     "name": "stdout",
     "output_type": "stream",
     "text": [
      "to_gaussian(w[0,0, :num_agent], mean = 1, std = 0.45)\n",
      "{'metric': {'fde': 1.1488476470263806, 'ade': 0.7557419579571251, 'loss': 6.029225986884295, 'mr': 0.11737433934820582}}\n"
     ]
    },
    {
     "name": "stderr",
     "output_type": "stream",
     "text": [
      "100%|██████████| 395/395 [01:47<00:00,  3.69it/s]\n",
      "  0%|          | 0/395 [00:00<?, ?it/s]"
     ]
    },
    {
     "name": "stdout",
     "output_type": "stream",
     "text": [
      "to_gaussian(w[0,0, :num_agent], mean = 1, std = 0.46)\n",
      "{'metric': {'fde': 1.1490765485775147, 'ade': 0.7559737992953519, 'loss': 6.02920055350747, 'mr': 0.11750101139538675}}\n"
     ]
    },
    {
     "name": "stderr",
     "output_type": "stream",
     "text": [
      "100%|██████████| 395/395 [01:47<00:00,  3.69it/s]\n",
      "  0%|          | 0/395 [00:00<?, ?it/s]"
     ]
    },
    {
     "name": "stdout",
     "output_type": "stream",
     "text": [
      "to_gaussian(w[0,0, :num_agent], mean = 1, std = 0.47)\n",
      "{'metric': {'fde': 1.1492937642357637, 'ade': 0.7558581100381914, 'loss': 6.029223153307992, 'mr': 0.11760234899205818}}\n"
     ]
    },
    {
     "name": "stderr",
     "output_type": "stream",
     "text": [
      "100%|██████████| 395/395 [01:46<00:00,  3.70it/s]\n",
      "  0%|          | 0/395 [00:00<?, ?it/s]"
     ]
    },
    {
     "name": "stdout",
     "output_type": "stream",
     "text": [
      "to_gaussian(w[0,0, :num_agent], mean = 1, std = 0.48)\n",
      "{'metric': {'fde': 1.1494637401566894, 'ade': 0.7556886275770406, 'loss': 6.029254688344893, 'mr': 0.1177290210392391}}\n"
     ]
    },
    {
     "name": "stderr",
     "output_type": "stream",
     "text": [
      "100%|██████████| 395/395 [01:46<00:00,  3.70it/s]\n",
      "  0%|          | 0/395 [00:00<?, ?it/s]"
     ]
    },
    {
     "name": "stdout",
     "output_type": "stream",
     "text": [
      "to_gaussian(w[0,0, :num_agent], mean = 1, std = 0.49)\n",
      "{'metric': {'fde': 1.1495970873683872, 'ade': 0.755743377451284, 'loss': 6.029310434416426, 'mr': 0.11775435542934666}}\n"
     ]
    },
    {
     "name": "stderr",
     "output_type": "stream",
     "text": [
      "100%|██████████| 395/395 [01:47<00:00,  3.68it/s]\n",
      "  0%|          | 0/395 [00:00<?, ?it/s]"
     ]
    },
    {
     "name": "stdout",
     "output_type": "stream",
     "text": [
      "to_gaussian(w[0,0, :num_agent], mean = 1, std = 0.5)\n",
      "{'metric': {'fde': 1.149794403241625, 'ade': 0.7559191827886154, 'loss': 6.029321877735078, 'mr': 0.11798236519400292}}\n"
     ]
    },
    {
     "name": "stderr",
     "output_type": "stream",
     "text": [
      "100%|██████████| 395/395 [01:46<00:00,  3.70it/s]\n",
      "  0%|          | 0/395 [00:00<?, ?it/s]"
     ]
    },
    {
     "name": "stdout",
     "output_type": "stream",
     "text": [
      "to_gaussian(w[0,0, :num_agent], mean = 1, std = 0.51)\n",
      "{'metric': {'fde': 1.150099993428577, 'ade': 0.7562049930280261, 'loss': 6.029386993550462, 'mr': 0.11815970609388131}}\n"
     ]
    },
    {
     "name": "stderr",
     "output_type": "stream",
     "text": [
      "100%|██████████| 395/395 [01:46<00:00,  3.72it/s]\n",
      "  0%|          | 0/395 [00:00<?, ?it/s]"
     ]
    },
    {
     "name": "stdout",
     "output_type": "stream",
     "text": [
      "to_gaussian(w[0,0, :num_agent], mean = 1, std = 0.52)\n",
      "{'metric': {'fde': 1.1502090472657043, 'ade': 0.7560954280454328, 'loss': 6.029428294954582, 'mr': 0.11808370271819199}}\n"
     ]
    },
    {
     "name": "stderr",
     "output_type": "stream",
     "text": [
      "100%|██████████| 395/395 [01:46<00:00,  3.71it/s]\n",
      "  0%|          | 0/395 [00:00<?, ?it/s]"
     ]
    },
    {
     "name": "stdout",
     "output_type": "stream",
     "text": [
      "to_gaussian(w[0,0, :num_agent], mean = 1, std = 0.53)\n",
      "{'metric': {'fde': 1.1504347381390778, 'ade': 0.7560833441761761, 'loss': 6.029428289542567, 'mr': 0.11783035862383014}}\n"
     ]
    },
    {
     "name": "stderr",
     "output_type": "stream",
     "text": [
      "100%|██████████| 395/395 [01:47<00:00,  3.69it/s]\n",
      "  0%|          | 0/395 [00:00<?, ?it/s]"
     ]
    },
    {
     "name": "stdout",
     "output_type": "stream",
     "text": [
      "to_gaussian(w[0,0, :num_agent], mean = 1, std = 0.54)\n",
      "{'metric': {'fde': 1.1506303737750168, 'ade': 0.7560422858295046, 'loss': 6.02948346271368, 'mr': 0.11815970592475585}}\n"
     ]
    },
    {
     "name": "stderr",
     "output_type": "stream",
     "text": [
      "100%|██████████| 395/395 [01:46<00:00,  3.69it/s]\n",
      "  0%|          | 0/395 [00:00<?, ?it/s]"
     ]
    },
    {
     "name": "stdout",
     "output_type": "stream",
     "text": [
      "to_gaussian(w[0,0, :num_agent], mean = 1, std = 0.55)\n",
      "{'metric': {'fde': 1.1508958054593956, 'ade': 0.7562428328688443, 'loss': 6.029565576894302, 'mr': 0.11823570922796282}}\n"
     ]
    },
    {
     "name": "stderr",
     "output_type": "stream",
     "text": [
      "100%|██████████| 395/395 [01:46<00:00,  3.70it/s]\n",
      "  0%|          | 0/395 [00:00<?, ?it/s]"
     ]
    },
    {
     "name": "stdout",
     "output_type": "stream",
     "text": [
      "to_gaussian(w[0,0, :num_agent], mean = 1, std = 0.56)\n",
      "{'metric': {'fde': 1.1510936084139622, 'ade': 0.7564512700458553, 'loss': 6.029626719517702, 'mr': 0.11828637812898185}}\n"
     ]
    },
    {
     "name": "stderr",
     "output_type": "stream",
     "text": [
      "100%|██████████| 395/395 [01:46<00:00,  3.70it/s]\n",
      "  0%|          | 0/395 [00:00<?, ?it/s]"
     ]
    },
    {
     "name": "stdout",
     "output_type": "stream",
     "text": [
      "to_gaussian(w[0,0, :num_agent], mean = 1, std = 0.57)\n",
      "{'metric': {'fde': 1.1513573579281797, 'ade': 0.756648798630602, 'loss': 6.0297407120115905, 'mr': 0.11826104378719585}}\n"
     ]
    },
    {
     "name": "stderr",
     "output_type": "stream",
     "text": [
      "100%|██████████| 395/395 [01:47<00:00,  3.69it/s]\n",
      "  0%|          | 0/395 [00:00<?, ?it/s]"
     ]
    },
    {
     "name": "stdout",
     "output_type": "stream",
     "text": [
      "to_gaussian(w[0,0, :num_agent], mean = 1, std = 0.58)\n",
      "{'metric': {'fde': 1.151510543459864, 'ade': 0.7568411894737587, 'loss': 6.029837495844809, 'mr': 0.11846371908926219}}\n"
     ]
    },
    {
     "name": "stderr",
     "output_type": "stream",
     "text": [
      "100%|██████████| 395/395 [01:47<00:00,  3.68it/s]\n",
      "  0%|          | 0/395 [00:00<?, ?it/s]"
     ]
    },
    {
     "name": "stdout",
     "output_type": "stream",
     "text": [
      "to_gaussian(w[0,0, :num_agent], mean = 1, std = 0.59)\n",
      "{'metric': {'fde': 1.1517590977761927, 'ade': 0.7569591278096274, 'loss': 6.029950408255179, 'mr': 0.11856505661345128}}\n"
     ]
    },
    {
     "name": "stderr",
     "output_type": "stream",
     "text": [
      "100%|██████████| 395/395 [01:47<00:00,  3.66it/s]\n",
      "  0%|          | 0/395 [00:00<?, ?it/s]"
     ]
    },
    {
     "name": "stdout",
     "output_type": "stream",
     "text": [
      "to_gaussian(w[0,0, :num_agent], mean = 1, std = 0.6)\n",
      "{'metric': {'fde': 1.1519634454029022, 'ade': 0.75705187920863, 'loss': 6.030067751559353, 'mr': 0.11861572541782718}}\n"
     ]
    },
    {
     "name": "stderr",
     "output_type": "stream",
     "text": [
      "100%|██████████| 395/395 [01:47<00:00,  3.67it/s]\n",
      "  0%|          | 0/395 [00:00<?, ?it/s]"
     ]
    },
    {
     "name": "stdout",
     "output_type": "stream",
     "text": [
      "to_gaussian(w[0,0, :num_agent], mean = 1, std = 0.61)\n",
      "{'metric': {'fde': 1.1523433066013615, 'ade': 0.7573017387869486, 'loss': 6.030222504255884, 'mr': 0.11886906953634982}}\n"
     ]
    },
    {
     "name": "stderr",
     "output_type": "stream",
     "text": [
      " 87%|████████▋ | 345/395 [01:33<00:13,  3.84it/s]"
     ]
    }
   ],
   "source": [
    "f1 = lambda w: softmax(normalize_max1(abs(w))*2) * len(w[0])\n",
    "to_gaussian = lambda arr, mean = 0, std = 1: ((arr - torch.mean(arr))/ (torch.std(arr) + 0.00001)) * std + mean\n",
    "\n",
    "\n",
    "for std in range(1, 100):\n",
    "    def f2(w, mask = None, mean = 1, std = std/100):\n",
    "        for i in range(len(w)):\n",
    "            num_agent = int(torch.sum(mask[i]))\n",
    "\n",
    "            w[i,0, :num_agent] = to_gaussian(abs(w[i,0, :num_agent]), mean = mean, std = std)\n",
    "        return w\n",
    "\n",
    "    Test(val_dataset, f2, f\"to_gaussian(w[0,0, :num_agent], mean = 1, std = {std/100})\")"
   ]
  },
  {
   "cell_type": "code",
   "execution_count": 16,
   "id": "ce48daae",
   "metadata": {
    "ExecuteTime": {
     "end_time": "2022-02-18T01:51:54.110194Z",
     "start_time": "2022-02-18T01:51:52.407672Z"
    }
   },
   "outputs": [],
   "source": [
    "from matplotlib import pyplot as plt\n",
    "\n",
    "for ii, d in enumerate(val_dataset):\n",
    "    \n",
    "    input_dict, traget_dict = d[0], d[1]\n",
    "#     for i in range(100):\n",
    "#         xy = d[0]['agent_features'][i]\n",
    "#         xy.shape\n",
    "#         plt.scatter(xy[:,0], xy[:, 1])\n",
    "    if ii > 10:\n",
    "        break\n",
    "# plt.show()\n",
    "a = torch.tensor([[1,2,3],[1,2,3]]).float()\n",
    "print(input_dict['adjacency'][0,0])\n",
    "print(f1(input_dict['adjacency'], input_dict['num_agent_mask'])[0,0])"
   ]
  },
  {
   "cell_type": "code",
   "execution_count": 17,
   "id": "d9599cf7",
   "metadata": {
    "ExecuteTime": {
     "end_time": "2022-02-18T01:51:57.342155Z",
     "start_time": "2022-02-18T01:51:57.327775Z"
    }
   },
   "outputs": [
    {
     "name": "stdout",
     "output_type": "stream",
     "text": [
      "tensor([-0.0147, -0.0019,  0.0052, -0.0009,  0.0026, -0.0006,  0.0020, -0.0007,\n",
      "         0.0001, -0.0009, -0.0002, -0.0030,  0.0000,  0.0000,  0.0000,  0.0000,\n",
      "         0.0000,  0.0000,  0.0000,  0.0000,  0.0000,  0.0000,  0.0000,  0.0000])\n",
      "tensor([2.1649, 0.9039, 1.1309, 0.8452, 0.9480, 0.8276, 0.9109, 0.8326, 0.8028,\n",
      "        0.8466, 0.8075, 0.9792, 0.0000, 0.0000, 0.0000, 0.0000, 0.0000, 0.0000,\n",
      "        0.0000, 0.0000, 0.0000, 0.0000, 0.0000, 0.0000])\n"
     ]
    }
   ],
   "source": []
  },
  {
   "cell_type": "code",
   "execution_count": 20,
   "id": "88b14f5e",
   "metadata": {
    "ExecuteTime": {
     "end_time": "2022-02-17T15:40:34.190404Z",
     "start_time": "2022-02-17T15:40:32.094864Z"
    }
   },
   "outputs": [],
   "source": [
    "from matplotlib import pyplot as plt\n",
    "\n",
    "for ii, d in enumerate(val_dataset):\n",
    "    \n",
    "    input_dict, traget_dict = d[0], d[1]\n",
    "#     for i in range(100):\n",
    "#         xy = d[0]['agent_features'][i]\n",
    "#         xy.shape\n",
    "#         plt.scatter(xy[:,0], xy[:, 1])\n",
    "    if ii > 10:\n",
    "        break\n",
    "# plt.show()\n"
   ]
  },
  {
   "cell_type": "code",
   "execution_count": 44,
   "id": "3512ca15",
   "metadata": {
    "ExecuteTime": {
     "end_time": "2022-02-17T13:25:35.761545Z",
     "start_time": "2022-02-17T13:25:35.750351Z"
    },
    "scrolled": true
   },
   "outputs": [
    {
     "data": {
      "text/plain": [
       "tensor([1.0000, 1.0000, 1.0000, 1.0000, 1.0000, 1.0000, 1.0000, 1.0000, 1.0000,\n",
       "        1.0000, 1.0000, 1.0000, 0.0000, 0.0000, 0.0000, 0.0000, 0.0000, 0.0000,\n",
       "        0.0000, 0.0000, 0.0000, 0.0000, 0.0000, 0.0000, 0.0000, 0.0000, 0.0000,\n",
       "        0.0000, 0.0000])"
      ]
     },
     "execution_count": 44,
     "metadata": {},
     "output_type": "execute_result"
    }
   ],
   "source": [
    "def f2(w, mask):\n",
    "    for i in range(len(input_dict[\"adjacency\"])):\n",
    "        num_agent = int(torch.sum(mask[0]))\n",
    "        w[0,0, :num_agent] = to_gaussian(w[0,0, :num_agent], mean = 1, std = 0.000001)\n",
    "    return w\n",
    "\n",
    "f2(input_dict['adjacency'], input_dict['num_agent_mask'])[0][0]"
   ]
  },
  {
   "cell_type": "code",
   "execution_count": null,
   "id": "35928731",
   "metadata": {},
   "outputs": [],
   "source": []
  }
 ],
 "metadata": {
  "kernelspec": {
   "display_name": "Python 3",
   "language": "python",
   "name": "python3"
  },
  "language_info": {
   "codemirror_mode": {
    "name": "ipython",
    "version": 3
   },
   "file_extension": ".py",
   "mimetype": "text/x-python",
   "name": "python",
   "nbconvert_exporter": "python",
   "pygments_lexer": "ipython3",
   "version": "3.8.10"
  },
  "toc": {
   "base_numbering": 1,
   "nav_menu": {},
   "number_sections": false,
   "sideBar": true,
   "skip_h1_title": false,
   "title_cell": "Table of Contents",
   "title_sidebar": "Contents",
   "toc_cell": false,
   "toc_position": {},
   "toc_section_display": true,
   "toc_window_display": false
  }
 },
 "nbformat": 4,
 "nbformat_minor": 5
}
