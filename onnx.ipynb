{
 "cells": [
  {
   "cell_type": "code",
   "execution_count": 1,
   "id": "d3425891",
   "metadata": {
    "ExecuteTime": {
     "end_time": "2022-02-10T05:31:28.679861Z",
     "start_time": "2022-02-10T05:31:28.619358Z"
    }
   },
   "outputs": [],
   "source": [
    "import onnx"
   ]
  },
  {
   "cell_type": "code",
   "execution_count": 2,
   "id": "3277b57c",
   "metadata": {
    "ExecuteTime": {
     "end_time": "2022-02-10T05:31:29.062836Z",
     "start_time": "2022-02-10T05:31:29.036945Z"
    }
   },
   "outputs": [],
   "source": [
    "path = \"./gat.onnx\"\n",
    "onnx.save(onnx.shape_inference.infer_shapes(onnx.load(path)), path)"
   ]
  },
  {
   "cell_type": "code",
   "execution_count": null,
   "id": "481e70b1",
   "metadata": {},
   "outputs": [],
   "source": []
  }
 ],
 "metadata": {
  "kernelspec": {
   "display_name": "Python 3",
   "language": "python",
   "name": "python3"
  },
  "language_info": {
   "codemirror_mode": {
    "name": "ipython",
    "version": 3
   },
   "file_extension": ".py",
   "mimetype": "text/x-python",
   "name": "python",
   "nbconvert_exporter": "python",
   "pygments_lexer": "ipython3",
   "version": "3.8.10"
  },
  "toc": {
   "base_numbering": 1,
   "nav_menu": {},
   "number_sections": false,
   "sideBar": true,
   "skip_h1_title": false,
   "title_cell": "Table of Contents",
   "title_sidebar": "Contents",
   "toc_cell": false,
   "toc_position": {},
   "toc_section_display": true,
   "toc_window_display": false
  }
 },
 "nbformat": 4,
 "nbformat_minor": 5
}
